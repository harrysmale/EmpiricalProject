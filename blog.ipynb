{
 "cells": [
  {
   "cell_type": "markdown",
   "metadata": {},
   "source": [
    "# **Language Learning on Duolingo: *Patterns from the Data***"
   ]
  },
  {
   "cell_type": "markdown",
   "metadata": {},
   "source": [
    "## Introduction\n",
    "Duolingo is a popular language-learning platform that offers courses in 43 languages (both real and fictional) to over 500 million users. The app uses games and quizzes to teach the learner vocabulary, grammar, and pronunciation.\n",
    "\n",
    "The data used in this analysis was collected through a web scrape of [this website](https://duolingodata.com). \n",
    "\n",
    "To better organise the data, I created an SQLite database where each table corresponds to a unique origin language.\n",
    "\n",
    "I am interested in determining how language popularity varies based on origin, as well as how the design of the course affects the number of learners."
   ]
  },
  {
   "cell_type": "markdown",
   "metadata": {},
   "source": [
    "### *Importing Data and Libraries*"
   ]
  },
  {
   "cell_type": "code",
   "execution_count": 15,
   "metadata": {},
   "outputs": [
    {
     "name": "stdout",
     "output_type": "stream",
     "text": [
      "   id learning origin    u     lr    ls  s     w      r    d cefr\n",
      "0   1   Arabic     EN   46   8.55   798  0  1519  24.05   46     \n",
      "1   2  Chinese     EN   70  11.90  1696  0  2036  25.03  490   A1\n",
      "2   4    Czech     EN   88   1.00  1592  0  2696  24.05   88     \n",
      "3   5   Danish     EN   62   1.11  1004  0  2341  24.05   62     \n",
      "4   6    Dutch     EN  123   3.37  2039  0  2995  24.05  123     \n",
      "  origin_name language_name                                          countries\n",
      "0          AR        Arabic  Egypt, Saudi Arabia, Iraq, Jordan, United Arab...\n",
      "1          BN       Bengali                                         Bangladesh\n",
      "2          CS         Czech                                     Czech Republic\n",
      "3          DE        German  Germany, Austria, Switzerland, Liechtenstein, ...\n",
      "4          EL         Greek                                     Greece, Cyprus\n",
      "  origin_name          country_name\n",
      "0          AR                 Egypt\n",
      "1          AR          Saudi Arabia\n",
      "2          AR                  Iraq\n",
      "3          AR                Jordan\n",
      "4          AR  United Arab Emirates\n"
     ]
    }
   ],
   "source": [
    "import sqlite3\n",
    "import pandas as pd\n",
    "import os\n",
    "import matplotlib.pyplot as plt\n",
    "\n",
    "base_dir = os.getcwd()\n",
    "db_path = os.path.join(base_dir, 'data', 'duolingoDatabase.db')\n",
    "image_path = os.path.join(base_dir, 'images')\n",
    "\n",
    "conn = sqlite3.connect(db_path)\n",
    "query = \"\"\"\n",
    "SELECT\n",
    "    a.id,\n",
    "    a.learning,\n",
    "    o.origin_name AS origin,\n",
    "    a.u,\n",
    "    a.lr,\n",
    "    a.ls,\n",
    "    a.s,\n",
    "    a.w,\n",
    "    a.r,\n",
    "    a.d,\n",
    "    a.cefr\n",
    "FROM all_data a\n",
    "JOIN origins o ON a.origin_id = o.id\n",
    "\"\"\"\n",
    "df = pd.read_sql_query(query, conn)\n",
    "\n",
    "\n",
    "origins_df = pd.read_sql_query('SELECT origin_name, language_name, countries FROM origins', conn)\n",
    "countries_df = pd.read_sql_query('SELECT * FROM language_countries', conn)\n",
    "conn.close()\n",
    "print(df.head())\n",
    "print(origins_df.head())\n",
    "print(countries_df.head())"
   ]
  },
  {
   "cell_type": "markdown",
   "metadata": {},
   "source": [
    "## Summary Statistics\n",
    "  - 'Learning': The language being learned\n",
    "  - 'from': The language used to learn the new language\n",
    "  - 'U': The number of units in the course\n",
    "  - 'Lr': The number of learners (millions)\n",
    "  - 'Ls': The number of lessons in the course\n",
    "  - 'S': The number of stories in the course\n",
    "  - 'W': The number of words in the course\n",
    "  - 'R': The release date of the course\n",
    "  - 'D': The number of different lessons"
   ]
  },
  {
   "cell_type": "code",
   "execution_count": 16,
   "metadata": {},
   "outputs": [
    {
     "name": "stdout",
     "output_type": "stream",
     "text": [
      "Summary Statistics for the entire dataset:\n"
     ]
    },
    {
     "data": {
      "text/html": [
       "<div>\n",
       "<style scoped>\n",
       "    .dataframe tbody tr th:only-of-type {\n",
       "        vertical-align: middle;\n",
       "    }\n",
       "\n",
       "    .dataframe tbody tr th {\n",
       "        vertical-align: top;\n",
       "    }\n",
       "\n",
       "    .dataframe thead th {\n",
       "        text-align: right;\n",
       "    }\n",
       "</style>\n",
       "<table border=\"1\" class=\"dataframe\">\n",
       "  <thead>\n",
       "    <tr style=\"text-align: right;\">\n",
       "      <th></th>\n",
       "      <th>id</th>\n",
       "      <th>u</th>\n",
       "      <th>lr</th>\n",
       "      <th>ls</th>\n",
       "      <th>s</th>\n",
       "      <th>w</th>\n",
       "      <th>r</th>\n",
       "      <th>d</th>\n",
       "    </tr>\n",
       "  </thead>\n",
       "  <tbody>\n",
       "    <tr>\n",
       "      <th>count</th>\n",
       "      <td>264.000000</td>\n",
       "      <td>264.000000</td>\n",
       "      <td>264.000000</td>\n",
       "      <td>264.000000</td>\n",
       "      <td>264.000000</td>\n",
       "      <td>264.000000</td>\n",
       "      <td>264.000000</td>\n",
       "      <td>264.000000</td>\n",
       "    </tr>\n",
       "    <tr>\n",
       "      <th>mean</th>\n",
       "      <td>155.200758</td>\n",
       "      <td>99.939394</td>\n",
       "      <td>2.362871</td>\n",
       "      <td>1963.280303</td>\n",
       "      <td>50.768939</td>\n",
       "      <td>3284.719697</td>\n",
       "      <td>24.509205</td>\n",
       "      <td>170.106061</td>\n",
       "    </tr>\n",
       "    <tr>\n",
       "      <th>std</th>\n",
       "      <td>90.495475</td>\n",
       "      <td>74.529373</td>\n",
       "      <td>6.461259</td>\n",
       "      <td>1715.015937</td>\n",
       "      <td>131.304987</td>\n",
       "      <td>1555.313922</td>\n",
       "      <td>0.466714</td>\n",
       "      <td>272.702048</td>\n",
       "    </tr>\n",
       "    <tr>\n",
       "      <th>min</th>\n",
       "      <td>1.000000</td>\n",
       "      <td>11.000000</td>\n",
       "      <td>0.001000</td>\n",
       "      <td>123.000000</td>\n",
       "      <td>0.000000</td>\n",
       "      <td>143.000000</td>\n",
       "      <td>24.050000</td>\n",
       "      <td>11.000000</td>\n",
       "    </tr>\n",
       "    <tr>\n",
       "      <th>25%</th>\n",
       "      <td>75.500000</td>\n",
       "      <td>70.000000</td>\n",
       "      <td>0.030000</td>\n",
       "      <td>1274.500000</td>\n",
       "      <td>0.000000</td>\n",
       "      <td>2104.500000</td>\n",
       "      <td>24.100000</td>\n",
       "      <td>70.000000</td>\n",
       "    </tr>\n",
       "    <tr>\n",
       "      <th>50%</th>\n",
       "      <td>157.500000</td>\n",
       "      <td>70.000000</td>\n",
       "      <td>0.090000</td>\n",
       "      <td>1285.000000</td>\n",
       "      <td>0.000000</td>\n",
       "      <td>2888.000000</td>\n",
       "      <td>24.120000</td>\n",
       "      <td>70.000000</td>\n",
       "    </tr>\n",
       "    <tr>\n",
       "      <th>75%</th>\n",
       "      <td>233.250000</td>\n",
       "      <td>71.000000</td>\n",
       "      <td>1.682500</td>\n",
       "      <td>1397.000000</td>\n",
       "      <td>0.000000</td>\n",
       "      <td>4106.000000</td>\n",
       "      <td>25.030000</td>\n",
       "      <td>120.250000</td>\n",
       "    </tr>\n",
       "    <tr>\n",
       "      <th>max</th>\n",
       "      <td>310.000000</td>\n",
       "      <td>309.000000</td>\n",
       "      <td>60.900000</td>\n",
       "      <td>7650.000000</td>\n",
       "      <td>573.000000</td>\n",
       "      <td>8411.000000</td>\n",
       "      <td>25.040000</td>\n",
       "      <td>2026.000000</td>\n",
       "    </tr>\n",
       "  </tbody>\n",
       "</table>\n",
       "</div>"
      ],
      "text/plain": [
       "               id           u          lr           ls           s  \\\n",
       "count  264.000000  264.000000  264.000000   264.000000  264.000000   \n",
       "mean   155.200758   99.939394    2.362871  1963.280303   50.768939   \n",
       "std     90.495475   74.529373    6.461259  1715.015937  131.304987   \n",
       "min      1.000000   11.000000    0.001000   123.000000    0.000000   \n",
       "25%     75.500000   70.000000    0.030000  1274.500000    0.000000   \n",
       "50%    157.500000   70.000000    0.090000  1285.000000    0.000000   \n",
       "75%    233.250000   71.000000    1.682500  1397.000000    0.000000   \n",
       "max    310.000000  309.000000   60.900000  7650.000000  573.000000   \n",
       "\n",
       "                 w           r            d  \n",
       "count   264.000000  264.000000   264.000000  \n",
       "mean   3284.719697   24.509205   170.106061  \n",
       "std    1555.313922    0.466714   272.702048  \n",
       "min     143.000000   24.050000    11.000000  \n",
       "25%    2104.500000   24.100000    70.000000  \n",
       "50%    2888.000000   24.120000    70.000000  \n",
       "75%    4106.000000   25.030000   120.250000  \n",
       "max    8411.000000   25.040000  2026.000000  "
      ]
     },
     "execution_count": 16,
     "metadata": {},
     "output_type": "execute_result"
    }
   ],
   "source": [
    "# Summary statistics for the entire dataset\n",
    "summary_stats = df.describe()\n",
    "print(\"Summary Statistics for the entire dataset:\")\n",
    "summary_stats\n"
   ]
  },
  {
   "cell_type": "code",
   "execution_count": 17,
   "metadata": {},
   "outputs": [
    {
     "name": "stdout",
     "output_type": "stream",
     "text": [
      "Most popular course by number of learners: English for ES speakers with 60.9 learners.\n"
     ]
    }
   ],
   "source": [
    "# ordering the dataframe by the number of learners\n",
    "most_popular_course_df = df.sort_values(by=\"lr\", ascending=False)\n",
    "most_popular_course_language = most_popular_course_df.iloc[0][\"learning\"]\n",
    "most_popular_course_learners = most_popular_course_df.iloc[0][\"origin\"]\n",
    "print(f\"Most popular course by number of learners: {most_popular_course_language} for {most_popular_course_df.iloc[0]['origin']} speakers with {most_popular_course_df.iloc[0]['lr']} learners.\")"
   ]
  },
  {
   "cell_type": "markdown",
   "metadata": {},
   "source": [
    "These summary statistics show that the mean number of learners per course is 2.36 million, with a median of 0.09 million. \n",
    "The most popular course overall is English for Spanish speakers, with 60.9 million learners, followed by Spanish for English speakers with 49.7 million learners."
   ]
  },
  {
   "cell_type": "markdown",
   "metadata": {},
   "source": [
    "## Language Popularity"
   ]
  },
  {
   "cell_type": "code",
   "execution_count": 18,
   "metadata": {},
   "outputs": [
    {
     "data": {
      "image/png": "[encoded data removed]",
      "text/plain": [
       "<Figure size 1000x600 with 1 Axes>"
      ]
     },
     "metadata": {},
     "output_type": "display_data"
    }
   ],
   "source": [
    "# Getting the top 10 languages by number of learners\n",
    "top_10_languages = df.groupby(\"learning\")[\"lr\"].sum().sort_values(ascending=False).head(10).iloc[::-1]\n",
    "\n",
    "# Plotting the top 10 languages\n",
    "plt.figure(figsize=(10, 6))\n",
    "plt.barh(top_10_languages.index, top_10_languages.values, color=\"green\")\n",
    "\n",
    "plt.xlabel(\"Number of Learners (millions)\")\n",
    "plt.ylabel(\"Language\")\n",
    "plt.title(\"Top 10 Languages by Number of Learners\")\n",
    "plt.xticks(range(0,275,25))\n",
    "\n",
    "plt.savefig(os.path.join(image_path, \"top_10_languages.png\"))\n",
    "plt.show()\n",
    "\n"
   ]
  },
  {
   "cell_type": "markdown",
   "metadata": {},
   "source": [
    "This graph shows the number of learners for each language. With 250 million learners, English is the most popular language. Spanish and French are the second and third most popular languages. This is as expected, as all origin languages on Duolingo allow users to learn English. \n",
    "\n",
    "Interestingly, the total number of learners with English as their origin language is 263.36 million (from dataInvestigation.sql); this is similar to the number of learners learning English as a target language (250 million). This suggests that the majority of users on Duolingo can speak English, either as a first or second language."
   ]
  },
  {
   "cell_type": "code",
   "execution_count": 19,
   "metadata": {},
   "outputs": [
    {
     "data": {
      "image/png": "[encoded data removed]",
      "text/plain": [
       "<Figure size 1000x600 with 1 Axes>"
      ]
     },
     "metadata": {},
     "output_type": "display_data"
    }
   ],
   "source": [
    "# Getting the bottom 10 languages by number of learners\n",
    "bottom_10_languages = df.groupby(\"learning\")[\"lr\"].sum().sort_values(ascending=True).head(10).iloc[::-1]\n",
    "\n",
    "# Plotting the bottom 10 languages\n",
    "plt.figure(figsize=(10, 6))\n",
    "plt.barh(bottom_10_languages.index, bottom_10_languages.values, color='purple')\n",
    "plt.title('Bottom 10 Languages by Number of Learners')\n",
    "plt.xlabel('Number of Learners (millions)')\n",
    "plt.ylabel('Language')\n",
    "\n",
    "plt.savefig(os.path.join(image_path, \"bottom_10_languages.png\"))\n",
    "\n",
    "plt.show()\n",
    "\n"
   ]
  },
  {
   "cell_type": "markdown",
   "metadata": {},
   "source": [
    "The language with the fewest learners is Guarani (spoken in Paraguay), with less than 100,000 learners. This may be because this course is only offered to Spanish speakers. The other least learnt languages include fictional languages, such as Klingon as well as regional languages, such as Welsh and Scottish Gaelic. \n",
    "\n",
    "Most of the least learnt languages are only offered to English speakers. This may be because these languages are not widely spoken outside of their native countries."
   ]
  },
  {
   "cell_type": "code",
   "execution_count": 20,
   "metadata": {},
   "outputs": [
    {
     "data": {
      "image/png": "[encoded data removed]",
      "text/plain": [
       "<Figure size 1000x600 with 1 Axes>"
      ]
     },
     "metadata": {},
     "output_type": "display_data"
    }
   ],
   "source": [
    "mostcommonorigin = df.groupby(\"origin\")[\"lr\"].sum().sort_values(ascending=False).head(10).iloc[::-1]\n",
    "# Plotting the most common origins\n",
    "plt.figure(figsize=(10, 6))\n",
    "plt.barh(mostcommonorigin.index, mostcommonorigin.values, color=\"blue\")\n",
    "plt.xlabel(\"Number of Learners (millions)\")\n",
    "plt.ylabel(\"Origin\")\n",
    "plt.title(\"Most Common Origins of Learners\")\n",
    "plt.xticks(range(0, 275, 25))\n",
    "plt.savefig(os.path.join(image_path, \"most_common_origins.png\"))\n",
    "plt.show()\n"
   ]
  },
  {
   "cell_type": "markdown",
   "metadata": {},
   "source": [
    "This shows that English is by far the most popular origin language on Duolingo, followed by Spanish and Chinese. This is not surprising, as these languages are spoken by the largest populations in the world."
   ]
  },
  {
   "cell_type": "markdown",
   "metadata": {},
   "source": [
    "## Language Pair Popularity"
   ]
  },
  {
   "cell_type": "markdown",
   "metadata": {},
   "source": [
    "### Who's Learning What?"
   ]
  },
  {
   "cell_type": "code",
   "execution_count": 21,
   "metadata": {},
   "outputs": [
    {
     "data": {
      "application/vnd.plotly.v1+json": {
       "config": {
        "plotlyServerURL": "https://plot.ly"
       },
       "data": [
        {
         "link": {
          "source": [
           19,
           19,
           26,
           4,
           14,
           14,
           14,
           3,
           3,
           3,
           3,
           3,
           3,
           3,
           3,
           3,
           3,
           3,
           3,
           3,
           3,
           3,
           3,
           3,
           3,
           3,
           3,
           35,
           35,
           35,
           35,
           35,
           31,
           31,
           31,
           6,
           33,
           24,
           20,
           20,
           13,
           7,
           1,
           1,
           1,
           1,
           9,
           9,
           2,
           0,
           8,
           32,
           32,
           34,
           34,
           34,
           34
          ],
          "target": [
           36,
           5,
           36,
           36,
           36,
           5,
           41,
           21,
           11,
           38,
           37,
           5,
           22,
           16,
           30,
           25,
           39,
           17,
           40,
           10,
           12,
           15,
           23,
           41,
           27,
           28,
           18,
           36,
           5,
           22,
           39,
           15,
           36,
           39,
           41,
           36,
           36,
           36,
           36,
           40,
           36,
           36,
           36,
           5,
           39,
           41,
           36,
           22,
           36,
           36,
           36,
           11,
           36,
           29,
           36,
           17,
           40
          ],
          "value": [
           17.1,
           3.27,
           6.01,
           2.12,
           6.38,
           2.41,
           3.09,
           8.55,
           11.9,
           3.37,
           18.9,
           27.6,
           19.2,
           2.98,
           11.2,
           2.01,
           13.6,
           25,
           18.6,
           2.33,
           2.67,
           6.25,
           9.85,
           49.7,
           2.39,
           5,
           2.82,
           60.9,
           7.58,
           2.84,
           6.16,
           6.95,
           16.1,
           2.38,
           5.01,
           20.7,
           6.85,
           4.73,
           6.88,
           2.3,
           2.65,
           4.84,
           23.7,
           3.11,
           2.28,
           6.07,
           16.8,
           2.94,
           2.2,
           2.57,
           8.15,
           2.8,
           11.8,
           5.31,
           19,
           6.98,
           3.59
          ]
         },
         "node": {
          "label": [
           "TH",
           "PT",
           "TE",
           "EN",
           "CS",
           "French",
           "HI",
           "PL",
           "TR",
           "RU",
           "Latin",
           "Chinese",
           "Polish",
           "KO",
           "DE",
           "Portuguese",
           "Greek",
           "Japanese",
           "Vietnamese",
           "AR",
           "JA",
           "Arabic",
           "German",
           "Russian",
           "IT",
           "Irish",
           "BN",
           "Swedish",
           "Turkish",
           "Cantonese",
           "Hindi",
           "FR",
           "VI",
           "ID",
           "ZH",
           "ES",
           "English",
           "English Int",
           "Dutch",
           "Italian",
           "Korean",
           "Spanish"
          ],
          "line": {
           "color": "black",
           "width": 0.5
          },
          "pad": 15,
          "thickness": 20
         },
         "type": "sankey"
        }
       ],
       "layout": {
        "font": {
         "size": 10
        },
        "template": {
         "data": {
          "bar": [
           {
            "error_x": {
             "color": "#2a3f5f"
            },
            "error_y": {
             "color": "#2a3f5f"
            },
            "marker": {
             "line": {
              "color": "#E5ECF6",
              "width": 0.5
             },
             "pattern": {
              "fillmode": "overlay",
              "size": 10,
              "solidity": 0.2
             }
            },
            "type": "bar"
           }
          ],
          "barpolar": [
           {
            "marker": {
             "line": {
              "color": "#E5ECF6",
              "width": 0.5
             },
             "pattern": {
              "fillmode": "overlay",
              "size": 10,
              "solidity": 0.2
             }
            },
            "type": "barpolar"
           }
          ],
          "carpet": [
           {
            "aaxis": {
             "endlinecolor": "#2a3f5f",
             "gridcolor": "white",
             "linecolor": "white",
             "minorgridcolor": "white",
             "startlinecolor": "#2a3f5f"
            },
            "baxis": {
             "endlinecolor": "#2a3f5f",
             "gridcolor": "white",
             "linecolor": "white",
             "minorgridcolor": "white",
             "startlinecolor": "#2a3f5f"
            },
            "type": "carpet"
           }
          ],
          "choropleth": [
           {
            "colorbar": {
             "outlinewidth": 0,
             "ticks": ""
            },
            "type": "choropleth"
           }
          ],
          "contour": [
           {
            "colorbar": {
             "outlinewidth": 0,
             "ticks": ""
            },
            "colorscale": [
             [
              0,
              "#0d0887"
             ],
             [
              0.1111111111111111,
              "#46039f"
             ],
             [
              0.2222222222222222,
              "#7201a8"
             ],
             [
              0.3333333333333333,
              "#9c179e"
             ],
             [
              0.4444444444444444,
              "#bd3786"
             ],
             [
              0.5555555555555556,
              "#d8576b"
             ],
             [
              0.6666666666666666,
              "#ed7953"
             ],
             [
              0.7777777777777778,
              "#fb9f3a"
             ],
             [
              0.8888888888888888,
              "#fdca26"
             ],
             [
              1,
              "#f0f921"
             ]
            ],
            "type": "contour"
           }
          ],
          "contourcarpet": [
           {
            "colorbar": {
             "outlinewidth": 0,
             "ticks": ""
            },
            "type": "contourcarpet"
           }
          ],
          "heatmap": [
           {
            "colorbar": {
             "outlinewidth": 0,
             "ticks": ""
            },
            "colorscale": [
             [
              0,
              "#0d0887"
             ],
             [
              0.1111111111111111,
              "#46039f"
             ],
             [
              0.2222222222222222,
              "#7201a8"
             ],
             [
              0.3333333333333333,
              "#9c179e"
             ],
             [
              0.4444444444444444,
              "#bd3786"
             ],
             [
              0.5555555555555556,
              "#d8576b"
             ],
             [
              0.6666666666666666,
              "#ed7953"
             ],
             [
              0.7777777777777778,
              "#fb9f3a"
             ],
             [
              0.8888888888888888,
              "#fdca26"
             ],
             [
              1,
              "#f0f921"
             ]
            ],
            "type": "heatmap"
           }
          ],
          "heatmapgl": [
           {
            "colorbar": {
             "outlinewidth": 0,
             "ticks": ""
            },
            "colorscale": [
             [
              0,
              "#0d0887"
             ],
             [
              0.1111111111111111,
              "#46039f"
             ],
             [
              0.2222222222222222,
              "#7201a8"
             ],
             [
              0.3333333333333333,
              "#9c179e"
             ],
             [
              0.4444444444444444,
              "#bd3786"
             ],
             [
              0.5555555555555556,
              "#d8576b"
             ],
             [
              0.6666666666666666,
              "#ed7953"
             ],
             [
              0.7777777777777778,
              "#fb9f3a"
             ],
             [
              0.8888888888888888,
              "#fdca26"
             ],
             [
              1,
              "#f0f921"
             ]
            ],
            "type": "heatmapgl"
           }
          ],
          "histogram": [
           {
            "marker": {
             "pattern": {
              "fillmode": "overlay",
              "size": 10,
              "solidity": 0.2
             }
            },
            "type": "histogram"
           }
          ],
          "histogram2d": [
           {
            "colorbar": {
             "outlinewidth": 0,
             "ticks": ""
            },
            "colorscale": [
             [
              0,
              "#0d0887"
             ],
             [
              0.1111111111111111,
              "#46039f"
             ],
             [
              0.2222222222222222,
              "#7201a8"
             ],
             [
              0.3333333333333333,
              "#9c179e"
             ],
             [
              0.4444444444444444,
              "#bd3786"
             ],
             [
              0.5555555555555556,
              "#d8576b"
             ],
             [
              0.6666666666666666,
              "#ed7953"
             ],
             [
              0.7777777777777778,
              "#fb9f3a"
             ],
             [
              0.8888888888888888,
              "#fdca26"
             ],
             [
              1,
              "#f0f921"
             ]
            ],
            "type": "histogram2d"
           }
          ],
          "histogram2dcontour": [
           {
            "colorbar": {
             "outlinewidth": 0,
             "ticks": ""
            },
            "colorscale": [
             [
              0,
              "#0d0887"
             ],
             [
              0.1111111111111111,
              "#46039f"
             ],
             [
              0.2222222222222222,
              "#7201a8"
             ],
             [
              0.3333333333333333,
              "#9c179e"
             ],
             [
              0.4444444444444444,
              "#bd3786"
             ],
             [
              0.5555555555555556,
              "#d8576b"
             ],
             [
              0.6666666666666666,
              "#ed7953"
             ],
             [
              0.7777777777777778,
              "#fb9f3a"
             ],
             [
              0.8888888888888888,
              "#fdca26"
             ],
             [
              1,
              "#f0f921"
             ]
            ],
            "type": "histogram2dcontour"
           }
          ],
          "mesh3d": [
           {
            "colorbar": {
             "outlinewidth": 0,
             "ticks": ""
            },
            "type": "mesh3d"
           }
          ],
          "parcoords": [
           {
            "line": {
             "colorbar": {
              "outlinewidth": 0,
              "ticks": ""
             }
            },
            "type": "parcoords"
           }
          ],
          "pie": [
           {
            "automargin": true,
            "type": "pie"
           }
          ],
          "scatter": [
           {
            "fillpattern": {
             "fillmode": "overlay",
             "size": 10,
             "solidity": 0.2
            },
            "type": "scatter"
           }
          ],
          "scatter3d": [
           {
            "line": {
             "colorbar": {
              "outlinewidth": 0,
              "ticks": ""
             }
            },
            "marker": {
             "colorbar": {
              "outlinewidth": 0,
              "ticks": ""
             }
            },
            "type": "scatter3d"
           }
          ],
          "scattercarpet": [
           {
            "marker": {
             "colorbar": {
              "outlinewidth": 0,
              "ticks": ""
             }
            },
            "type": "scattercarpet"
           }
          ],
          "scattergeo": [
           {
            "marker": {
             "colorbar": {
              "outlinewidth": 0,
              "ticks": ""
             }
            },
            "type": "scattergeo"
           }
          ],
          "scattergl": [
           {
            "marker": {
             "colorbar": {
              "outlinewidth": 0,
              "ticks": ""
             }
            },
            "type": "scattergl"
           }
          ],
          "scattermapbox": [
           {
            "marker": {
             "colorbar": {
              "outlinewidth": 0,
              "ticks": ""
             }
            },
            "type": "scattermapbox"
           }
          ],
          "scatterpolar": [
           {
            "marker": {
             "colorbar": {
              "outlinewidth": 0,
              "ticks": ""
             }
            },
            "type": "scatterpolar"
           }
          ],
          "scatterpolargl": [
           {
            "marker": {
             "colorbar": {
              "outlinewidth": 0,
              "ticks": ""
             }
            },
            "type": "scatterpolargl"
           }
          ],
          "scatterternary": [
           {
            "marker": {
             "colorbar": {
              "outlinewidth": 0,
              "ticks": ""
             }
            },
            "type": "scatterternary"
           }
          ],
          "surface": [
           {
            "colorbar": {
             "outlinewidth": 0,
             "ticks": ""
            },
            "colorscale": [
             [
              0,
              "#0d0887"
             ],
             [
              0.1111111111111111,
              "#46039f"
             ],
             [
              0.2222222222222222,
              "#7201a8"
             ],
             [
              0.3333333333333333,
              "#9c179e"
             ],
             [
              0.4444444444444444,
              "#bd3786"
             ],
             [
              0.5555555555555556,
              "#d8576b"
             ],
             [
              0.6666666666666666,
              "#ed7953"
             ],
             [
              0.7777777777777778,
              "#fb9f3a"
             ],
             [
              0.8888888888888888,
              "#fdca26"
             ],
             [
              1,
              "#f0f921"
             ]
            ],
            "type": "surface"
           }
          ],
          "table": [
           {
            "cells": {
             "fill": {
              "color": "#EBF0F8"
             },
             "line": {
              "color": "white"
             }
            },
            "header": {
             "fill": {
              "color": "#C8D4E3"
             },
             "line": {
              "color": "white"
             }
            },
            "type": "table"
           }
          ]
         },
         "layout": {
          "annotationdefaults": {
           "arrowcolor": "#2a3f5f",
           "arrowhead": 0,
           "arrowwidth": 1
          },
          "autotypenumbers": "strict",
          "coloraxis": {
           "colorbar": {
            "outlinewidth": 0,
            "ticks": ""
           }
          },
          "colorscale": {
           "diverging": [
            [
             0,
             "#8e0152"
            ],
            [
             0.1,
             "#c51b7d"
            ],
            [
             0.2,
             "#de77ae"
            ],
            [
             0.3,
             "#f1b6da"
            ],
            [
             0.4,
             "#fde0ef"
            ],
            [
             0.5,
             "#f7f7f7"
            ],
            [
             0.6,
             "#e6f5d0"
            ],
            [
             0.7,
             "#b8e186"
            ],
            [
             0.8,
             "#7fbc41"
            ],
            [
             0.9,
             "#4d9221"
            ],
            [
             1,
             "#276419"
            ]
           ],
           "sequential": [
            [
             0,
             "#0d0887"
            ],
            [
             0.1111111111111111,
             "#46039f"
            ],
            [
             0.2222222222222222,
             "#7201a8"
            ],
            [
             0.3333333333333333,
             "#9c179e"
            ],
            [
             0.4444444444444444,
             "#bd3786"
            ],
            [
             0.5555555555555556,
             "#d8576b"
            ],
            [
             0.6666666666666666,
             "#ed7953"
            ],
            [
             0.7777777777777778,
             "#fb9f3a"
            ],
            [
             0.8888888888888888,
             "#fdca26"
            ],
            [
             1,
             "#f0f921"
            ]
           ],
           "sequentialminus": [
            [
             0,
             "#0d0887"
            ],
            [
             0.1111111111111111,
             "#46039f"
            ],
            [
             0.2222222222222222,
             "#7201a8"
            ],
            [
             0.3333333333333333,
             "#9c179e"
            ],
            [
             0.4444444444444444,
             "#bd3786"
            ],
            [
             0.5555555555555556,
             "#d8576b"
            ],
            [
             0.6666666666666666,
             "#ed7953"
            ],
            [
             0.7777777777777778,
             "#fb9f3a"
            ],
            [
             0.8888888888888888,
             "#fdca26"
            ],
            [
             1,
             "#f0f921"
            ]
           ]
          },
          "colorway": [
           "#636efa",
           "#EF553B",
           "#00cc96",
           "#ab63fa",
           "#FFA15A",
           "#19d3f3",
           "#FF6692",
           "#B6E880",
           "#FF97FF",
           "#FECB52"
          ],
          "font": {
           "color": "#2a3f5f"
          },
          "geo": {
           "bgcolor": "white",
           "lakecolor": "white",
           "landcolor": "#E5ECF6",
           "showlakes": true,
           "showland": true,
           "subunitcolor": "white"
          },
          "hoverlabel": {
           "align": "left"
          },
          "hovermode": "closest",
          "mapbox": {
           "style": "light"
          },
          "paper_bgcolor": "white",
          "plot_bgcolor": "#E5ECF6",
          "polar": {
           "angularaxis": {
            "gridcolor": "white",
            "linecolor": "white",
            "ticks": ""
           },
           "bgcolor": "#E5ECF6",
           "radialaxis": {
            "gridcolor": "white",
            "linecolor": "white",
            "ticks": ""
           }
          },
          "scene": {
           "xaxis": {
            "backgroundcolor": "#E5ECF6",
            "gridcolor": "white",
            "gridwidth": 2,
            "linecolor": "white",
            "showbackground": true,
            "ticks": "",
            "zerolinecolor": "white"
           },
           "yaxis": {
            "backgroundcolor": "#E5ECF6",
            "gridcolor": "white",
            "gridwidth": 2,
            "linecolor": "white",
            "showbackground": true,
            "ticks": "",
            "zerolinecolor": "white"
           },
           "zaxis": {
            "backgroundcolor": "#E5ECF6",
            "gridcolor": "white",
            "gridwidth": 2,
            "linecolor": "white",
            "showbackground": true,
            "ticks": "",
            "zerolinecolor": "white"
           }
          },
          "shapedefaults": {
           "line": {
            "color": "#2a3f5f"
           }
          },
          "ternary": {
           "aaxis": {
            "gridcolor": "white",
            "linecolor": "white",
            "ticks": ""
           },
           "baxis": {
            "gridcolor": "white",
            "linecolor": "white",
            "ticks": ""
           },
           "bgcolor": "#E5ECF6",
           "caxis": {
            "gridcolor": "white",
            "linecolor": "white",
            "ticks": ""
           }
          },
          "title": {
           "x": 0.05
          },
          "xaxis": {
           "automargin": true,
           "gridcolor": "white",
           "linecolor": "white",
           "ticks": "",
           "title": {
            "standoff": 15
           },
           "zerolinecolor": "white",
           "zerolinewidth": 2
          },
          "yaxis": {
           "automargin": true,
           "gridcolor": "white",
           "linecolor": "white",
           "ticks": "",
           "title": {
            "standoff": 15
           },
           "zerolinecolor": "white",
           "zerolinewidth": 2
          }
         }
        },
        "title": {
         "text": "Flow of Learners: Origin → Learning Language"
        }
       }
      }
     },
     "metadata": {},
     "output_type": "display_data"
    }
   ],
   "source": [
    "import plotly.graph_objects as go\n",
    "\n",
    "# Grouping the data by origin and learning \n",
    "df_grouped = df.groupby(['origin', 'learning'])['lr'].sum().reset_index()\n",
    "\n",
    "# Filtering so only flows with more than 2 million learners are shown\n",
    "df_grouped_filter = df_grouped[df_grouped['lr'] > 2].copy()\n",
    "\n",
    "# Create list of unique labels\n",
    "labels = list(set(df_grouped_filter['origin'].tolist() + df_grouped_filter['learning'].tolist()))\n",
    "\n",
    "# Map labels to indices\n",
    "label_to_index = {label: i for i, label in enumerate(labels)}\n",
    "df_grouped_filter['source'] = df_grouped_filter['origin'].map(label_to_index)\n",
    "df_grouped_filter['target'] = df_grouped_filter['learning'].map(label_to_index)\n",
    "\n",
    "# Create Sankey Diagram\n",
    "fig = go.Figure(go.Sankey(\n",
    "    node=dict(\n",
    "        pad=15,\n",
    "        thickness=20,\n",
    "        line=dict(color=\"black\", width=0.5),\n",
    "        label=labels\n",
    "    ),\n",
    "    link=dict(\n",
    "        source=df_grouped_filter['source'],\n",
    "        target=df_grouped_filter['target'],\n",
    "        value=df_grouped_filter['lr']\n",
    "    )\n",
    "))\n",
    "\n",
    "fig.update_layout(title_text=\"Flow of Learners: Origin → Learning Language\", font_size=10)\n",
    "fig.show()\n"
   ]
  },
  {
   "cell_type": "markdown",
   "metadata": {},
   "source": [
    "(this graph is visible in the notebook)\n",
    "\n",
    "This clearly shows that for every origin language, English is the most popular (or only target with over 3 million) learners. Few countries have multiple origin languages, these include: English, Portuguese, French, Italian, Spanish, Japanese and Korean. This is likely because people may be choosing to learn a language that is geographically close to them.\n",
    "\n",
    "To follow on from this graph, I will produce a similar graph, but excluding English as a target language. "
   ]
  },
  {
   "cell_type": "code",
   "execution_count": 22,
   "metadata": {},
   "outputs": [
    {
     "data": {
      "application/vnd.plotly.v1+json": {
       "config": {
        "plotlyServerURL": "https://plot.ly"
       },
       "data": [
        {
         "link": {
          "source": [
           9,
           9,
           5,
           5,
           5,
           19,
           19,
           19,
           19,
           19,
           19,
           15,
           15,
           15,
           15,
           12,
           12,
           10,
           21,
           0,
           0,
           0,
           0,
           3,
           3,
           3,
           2,
           16,
           18,
           18,
           18,
           18,
           18
          ],
          "target": [
           1,
           11,
           1,
           20,
           22,
           14,
           1,
           11,
           20,
           6,
           8,
           11,
           20,
           6,
           22,
           1,
           22,
           17,
           1,
           1,
           11,
           20,
           22,
           1,
           11,
           22,
           11,
           4,
           13,
           1,
           7,
           17,
           22
          ],
          "value": [
           3.27,
           1.64,
           2.41,
           1.84,
           3.09,
           1.18,
           7.58,
           2.84,
           6.16,
           6.95,
           1.69,
           1.82,
           2.38,
           1.09,
           5.01,
           1.15,
           1.62,
           2.3,
           1.14,
           3.11,
           1.35,
           2.28,
           6.07,
           1.86,
           2.94,
           1.57,
           1.76,
           2.8,
           5.31,
           1.84,
           6.98,
           3.59,
           1.15
          ]
         },
         "node": {
          "label": [
           "PT",
           "French",
           "TR",
           "RU",
           "Chinese",
           "DE",
           "Portuguese",
           "Japanese",
           "Russian",
           "AR",
           "JA",
           "German",
           "IT",
           "Cantonese",
           "Catalan",
           "FR",
           "VI",
           "Korean",
           "ZH",
           "ES",
           "Italian",
           "NL",
           "Spanish"
          ],
          "line": {
           "color": "black",
           "width": 0.5
          },
          "pad": 15,
          "thickness": 20
         },
         "type": "sankey"
        }
       ],
       "layout": {
        "font": {
         "size": 10
        },
        "template": {
         "data": {
          "bar": [
           {
            "error_x": {
             "color": "#2a3f5f"
            },
            "error_y": {
             "color": "#2a3f5f"
            },
            "marker": {
             "line": {
              "color": "#E5ECF6",
              "width": 0.5
             },
             "pattern": {
              "fillmode": "overlay",
              "size": 10,
              "solidity": 0.2
             }
            },
            "type": "bar"
           }
          ],
          "barpolar": [
           {
            "marker": {
             "line": {
              "color": "#E5ECF6",
              "width": 0.5
             },
             "pattern": {
              "fillmode": "overlay",
              "size": 10,
              "solidity": 0.2
             }
            },
            "type": "barpolar"
           }
          ],
          "carpet": [
           {
            "aaxis": {
             "endlinecolor": "#2a3f5f",
             "gridcolor": "white",
             "linecolor": "white",
             "minorgridcolor": "white",
             "startlinecolor": "#2a3f5f"
            },
            "baxis": {
             "endlinecolor": "#2a3f5f",
             "gridcolor": "white",
             "linecolor": "white",
             "minorgridcolor": "white",
             "startlinecolor": "#2a3f5f"
            },
            "type": "carpet"
           }
          ],
          "choropleth": [
           {
            "colorbar": {
             "outlinewidth": 0,
             "ticks": ""
            },
            "type": "choropleth"
           }
          ],
          "contour": [
           {
            "colorbar": {
             "outlinewidth": 0,
             "ticks": ""
            },
            "colorscale": [
             [
              0,
              "#0d0887"
             ],
             [
              0.1111111111111111,
              "#46039f"
             ],
             [
              0.2222222222222222,
              "#7201a8"
             ],
             [
              0.3333333333333333,
              "#9c179e"
             ],
             [
              0.4444444444444444,
              "#bd3786"
             ],
             [
              0.5555555555555556,
              "#d8576b"
             ],
             [
              0.6666666666666666,
              "#ed7953"
             ],
             [
              0.7777777777777778,
              "#fb9f3a"
             ],
             [
              0.8888888888888888,
              "#fdca26"
             ],
             [
              1,
              "#f0f921"
             ]
            ],
            "type": "contour"
           }
          ],
          "contourcarpet": [
           {
            "colorbar": {
             "outlinewidth": 0,
             "ticks": ""
            },
            "type": "contourcarpet"
           }
          ],
          "heatmap": [
           {
            "colorbar": {
             "outlinewidth": 0,
             "ticks": ""
            },
            "colorscale": [
             [
              0,
              "#0d0887"
             ],
             [
              0.1111111111111111,
              "#46039f"
             ],
             [
              0.2222222222222222,
              "#7201a8"
             ],
             [
              0.3333333333333333,
              "#9c179e"
             ],
             [
              0.4444444444444444,
              "#bd3786"
             ],
             [
              0.5555555555555556,
              "#d8576b"
             ],
             [
              0.6666666666666666,
              "#ed7953"
             ],
             [
              0.7777777777777778,
              "#fb9f3a"
             ],
             [
              0.8888888888888888,
              "#fdca26"
             ],
             [
              1,
              "#f0f921"
             ]
            ],
            "type": "heatmap"
           }
          ],
          "heatmapgl": [
           {
            "colorbar": {
             "outlinewidth": 0,
             "ticks": ""
            },
            "colorscale": [
             [
              0,
              "#0d0887"
             ],
             [
              0.1111111111111111,
              "#46039f"
             ],
             [
              0.2222222222222222,
              "#7201a8"
             ],
             [
              0.3333333333333333,
              "#9c179e"
             ],
             [
              0.4444444444444444,
              "#bd3786"
             ],
             [
              0.5555555555555556,
              "#d8576b"
             ],
             [
              0.6666666666666666,
              "#ed7953"
             ],
             [
              0.7777777777777778,
              "#fb9f3a"
             ],
             [
              0.8888888888888888,
              "#fdca26"
             ],
             [
              1,
              "#f0f921"
             ]
            ],
            "type": "heatmapgl"
           }
          ],
          "histogram": [
           {
            "marker": {
             "pattern": {
              "fillmode": "overlay",
              "size": 10,
              "solidity": 0.2
             }
            },
            "type": "histogram"
           }
          ],
          "histogram2d": [
           {
            "colorbar": {
             "outlinewidth": 0,
             "ticks": ""
            },
            "colorscale": [
             [
              0,
              "#0d0887"
             ],
             [
              0.1111111111111111,
              "#46039f"
             ],
             [
              0.2222222222222222,
              "#7201a8"
             ],
             [
              0.3333333333333333,
              "#9c179e"
             ],
             [
              0.4444444444444444,
              "#bd3786"
             ],
             [
              0.5555555555555556,
              "#d8576b"
             ],
             [
              0.6666666666666666,
              "#ed7953"
             ],
             [
              0.7777777777777778,
              "#fb9f3a"
             ],
             [
              0.8888888888888888,
              "#fdca26"
             ],
             [
              1,
              "#f0f921"
             ]
            ],
            "type": "histogram2d"
           }
          ],
          "histogram2dcontour": [
           {
            "colorbar": {
             "outlinewidth": 0,
             "ticks": ""
            },
            "colorscale": [
             [
              0,
              "#0d0887"
             ],
             [
              0.1111111111111111,
              "#46039f"
             ],
             [
              0.2222222222222222,
              "#7201a8"
             ],
             [
              0.3333333333333333,
              "#9c179e"
             ],
             [
              0.4444444444444444,
              "#bd3786"
             ],
             [
              0.5555555555555556,
              "#d8576b"
             ],
             [
              0.6666666666666666,
              "#ed7953"
             ],
             [
              0.7777777777777778,
              "#fb9f3a"
             ],
             [
              0.8888888888888888,
              "#fdca26"
             ],
             [
              1,
              "#f0f921"
             ]
            ],
            "type": "histogram2dcontour"
           }
          ],
          "mesh3d": [
           {
            "colorbar": {
             "outlinewidth": 0,
             "ticks": ""
            },
            "type": "mesh3d"
           }
          ],
          "parcoords": [
           {
            "line": {
             "colorbar": {
              "outlinewidth": 0,
              "ticks": ""
             }
            },
            "type": "parcoords"
           }
          ],
          "pie": [
           {
            "automargin": true,
            "type": "pie"
           }
          ],
          "scatter": [
           {
            "fillpattern": {
             "fillmode": "overlay",
             "size": 10,
             "solidity": 0.2
            },
            "type": "scatter"
           }
          ],
          "scatter3d": [
           {
            "line": {
             "colorbar": {
              "outlinewidth": 0,
              "ticks": ""
             }
            },
            "marker": {
             "colorbar": {
              "outlinewidth": 0,
              "ticks": ""
             }
            },
            "type": "scatter3d"
           }
          ],
          "scattercarpet": [
           {
            "marker": {
             "colorbar": {
              "outlinewidth": 0,
              "ticks": ""
             }
            },
            "type": "scattercarpet"
           }
          ],
          "scattergeo": [
           {
            "marker": {
             "colorbar": {
              "outlinewidth": 0,
              "ticks": ""
             }
            },
            "type": "scattergeo"
           }
          ],
          "scattergl": [
           {
            "marker": {
             "colorbar": {
              "outlinewidth": 0,
              "ticks": ""
             }
            },
            "type": "scattergl"
           }
          ],
          "scattermapbox": [
           {
            "marker": {
             "colorbar": {
              "outlinewidth": 0,
              "ticks": ""
             }
            },
            "type": "scattermapbox"
           }
          ],
          "scatterpolar": [
           {
            "marker": {
             "colorbar": {
              "outlinewidth": 0,
              "ticks": ""
             }
            },
            "type": "scatterpolar"
           }
          ],
          "scatterpolargl": [
           {
            "marker": {
             "colorbar": {
              "outlinewidth": 0,
              "ticks": ""
             }
            },
            "type": "scatterpolargl"
           }
          ],
          "scatterternary": [
           {
            "marker": {
             "colorbar": {
              "outlinewidth": 0,
              "ticks": ""
             }
            },
            "type": "scatterternary"
           }
          ],
          "surface": [
           {
            "colorbar": {
             "outlinewidth": 0,
             "ticks": ""
            },
            "colorscale": [
             [
              0,
              "#0d0887"
             ],
             [
              0.1111111111111111,
              "#46039f"
             ],
             [
              0.2222222222222222,
              "#7201a8"
             ],
             [
              0.3333333333333333,
              "#9c179e"
             ],
             [
              0.4444444444444444,
              "#bd3786"
             ],
             [
              0.5555555555555556,
              "#d8576b"
             ],
             [
              0.6666666666666666,
              "#ed7953"
             ],
             [
              0.7777777777777778,
              "#fb9f3a"
             ],
             [
              0.8888888888888888,
              "#fdca26"
             ],
             [
              1,
              "#f0f921"
             ]
            ],
            "type": "surface"
           }
          ],
          "table": [
           {
            "cells": {
             "fill": {
              "color": "#EBF0F8"
             },
             "line": {
              "color": "white"
             }
            },
            "header": {
             "fill": {
              "color": "#C8D4E3"
             },
             "line": {
              "color": "white"
             }
            },
            "type": "table"
           }
          ]
         },
         "layout": {
          "annotationdefaults": {
           "arrowcolor": "#2a3f5f",
           "arrowhead": 0,
           "arrowwidth": 1
          },
          "autotypenumbers": "strict",
          "coloraxis": {
           "colorbar": {
            "outlinewidth": 0,
            "ticks": ""
           }
          },
          "colorscale": {
           "diverging": [
            [
             0,
             "#8e0152"
            ],
            [
             0.1,
             "#c51b7d"
            ],
            [
             0.2,
             "#de77ae"
            ],
            [
             0.3,
             "#f1b6da"
            ],
            [
             0.4,
             "#fde0ef"
            ],
            [
             0.5,
             "#f7f7f7"
            ],
            [
             0.6,
             "#e6f5d0"
            ],
            [
             0.7,
             "#b8e186"
            ],
            [
             0.8,
             "#7fbc41"
            ],
            [
             0.9,
             "#4d9221"
            ],
            [
             1,
             "#276419"
            ]
           ],
           "sequential": [
            [
             0,
             "#0d0887"
            ],
            [
             0.1111111111111111,
             "#46039f"
            ],
            [
             0.2222222222222222,
             "#7201a8"
            ],
            [
             0.3333333333333333,
             "#9c179e"
            ],
            [
             0.4444444444444444,
             "#bd3786"
            ],
            [
             0.5555555555555556,
             "#d8576b"
            ],
            [
             0.6666666666666666,
             "#ed7953"
            ],
            [
             0.7777777777777778,
             "#fb9f3a"
            ],
            [
             0.8888888888888888,
             "#fdca26"
            ],
            [
             1,
             "#f0f921"
            ]
           ],
           "sequentialminus": [
            [
             0,
             "#0d0887"
            ],
            [
             0.1111111111111111,
             "#46039f"
            ],
            [
             0.2222222222222222,
             "#7201a8"
            ],
            [
             0.3333333333333333,
             "#9c179e"
            ],
            [
             0.4444444444444444,
             "#bd3786"
            ],
            [
             0.5555555555555556,
             "#d8576b"
            ],
            [
             0.6666666666666666,
             "#ed7953"
            ],
            [
             0.7777777777777778,
             "#fb9f3a"
            ],
            [
             0.8888888888888888,
             "#fdca26"
            ],
            [
             1,
             "#f0f921"
            ]
           ]
          },
          "colorway": [
           "#636efa",
           "#EF553B",
           "#00cc96",
           "#ab63fa",
           "#FFA15A",
           "#19d3f3",
           "#FF6692",
           "#B6E880",
           "#FF97FF",
           "#FECB52"
          ],
          "font": {
           "color": "#2a3f5f"
          },
          "geo": {
           "bgcolor": "white",
           "lakecolor": "white",
           "landcolor": "#E5ECF6",
           "showlakes": true,
           "showland": true,
           "subunitcolor": "white"
          },
          "hoverlabel": {
           "align": "left"
          },
          "hovermode": "closest",
          "mapbox": {
           "style": "light"
          },
          "paper_bgcolor": "white",
          "plot_bgcolor": "#E5ECF6",
          "polar": {
           "angularaxis": {
            "gridcolor": "white",
            "linecolor": "white",
            "ticks": ""
           },
           "bgcolor": "#E5ECF6",
           "radialaxis": {
            "gridcolor": "white",
            "linecolor": "white",
            "ticks": ""
           }
          },
          "scene": {
           "xaxis": {
            "backgroundcolor": "#E5ECF6",
            "gridcolor": "white",
            "gridwidth": 2,
            "linecolor": "white",
            "showbackground": true,
            "ticks": "",
            "zerolinecolor": "white"
           },
           "yaxis": {
            "backgroundcolor": "#E5ECF6",
            "gridcolor": "white",
            "gridwidth": 2,
            "linecolor": "white",
            "showbackground": true,
            "ticks": "",
            "zerolinecolor": "white"
           },
           "zaxis": {
            "backgroundcolor": "#E5ECF6",
            "gridcolor": "white",
            "gridwidth": 2,
            "linecolor": "white",
            "showbackground": true,
            "ticks": "",
            "zerolinecolor": "white"
           }
          },
          "shapedefaults": {
           "line": {
            "color": "#2a3f5f"
           }
          },
          "ternary": {
           "aaxis": {
            "gridcolor": "white",
            "linecolor": "white",
            "ticks": ""
           },
           "baxis": {
            "gridcolor": "white",
            "linecolor": "white",
            "ticks": ""
           },
           "bgcolor": "#E5ECF6",
           "caxis": {
            "gridcolor": "white",
            "linecolor": "white",
            "ticks": ""
           }
          },
          "title": {
           "x": 0.05
          },
          "xaxis": {
           "automargin": true,
           "gridcolor": "white",
           "linecolor": "white",
           "ticks": "",
           "title": {
            "standoff": 15
           },
           "zerolinecolor": "white",
           "zerolinewidth": 2
          },
          "yaxis": {
           "automargin": true,
           "gridcolor": "white",
           "linecolor": "white",
           "ticks": "",
           "title": {
            "standoff": 15
           },
           "zerolinecolor": "white",
           "zerolinewidth": 2
          }
         }
        },
        "title": {
         "text": "Flow of Learners (Excluding English)"
        }
       }
      }
     },
     "metadata": {},
     "output_type": "display_data"
    }
   ],
   "source": [
    "# Creating a Sankey diagram exclusing English as a learning and origin language\n",
    "df_grouped_no_english = df_grouped[~df_grouped['origin'].isin(['EN']) & ~df_grouped['learning'].isin(['English'])]\n",
    "\n",
    "# Filtering so only flows with more than 1 million learners are shown\n",
    "df_grouped_no_english = df_grouped_no_english[df_grouped_no_english['lr'] > 1].copy()\n",
    "\n",
    "# Create list of unique labels\n",
    "labels = list(set(df_grouped_no_english['origin'].tolist() + df_grouped_no_english['learning'].tolist()))\n",
    "\n",
    "# Map labels to indices\n",
    "label_to_index = {label: i for i, label in enumerate(labels)}\n",
    "df_grouped_no_english['source'] = df_grouped_no_english['origin'].map(label_to_index)\n",
    "df_grouped_no_english['target'] = df_grouped_no_english['learning'].map(label_to_index)\n",
    "\n",
    "\n",
    "# Create Sankey Diagram\n",
    "fig_no_english = go.Figure(go.Sankey(\n",
    "    node=dict(\n",
    "        pad=15,\n",
    "        thickness=20,\n",
    "        line=dict(color=\"black\", width=0.5),\n",
    "        label=labels\n",
    "    ),\n",
    "    link=dict(\n",
    "        source=df_grouped_no_english['source'],\n",
    "        target=df_grouped_no_english['target'],\n",
    "        value=df_grouped_no_english['lr']\n",
    "    )\n",
    "))\n",
    "fig_no_english.update_layout(title_text=\"Flow of Learners (Excluding English)\", font_size=10)\n",
    "fig_no_english.show()"
   ]
  },
  {
   "cell_type": "markdown",
   "metadata": {},
   "source": [
    "(this graph is visible in the notebook)\n",
    "\n",
    "\n",
    "This graph makes it easier to see which languages people are most likely to learn. From this it appears that people that speak a European language are more likely to learn another European language, and people that speak an Asian language are more likely to learn another Asian language. This is likely due to the fact that these languages are geographically close to each other, and therefore people are more likely to be exposed to them."
   ]
  },
  {
   "cell_type": "markdown",
   "metadata": {},
   "source": [
    "### Second Most Popular Target Language\n",
    "I have chosen to show the most popular target language for each origin after excluding English, as for all countries English is the most popular target language."
   ]
  },
  {
   "cell_type": "code",
   "execution_count": 23,
   "metadata": {},
   "outputs": [
    {
     "data": {
      "application/vnd.plotly.v1+json": {
       "config": {
        "plotlyServerURL": "https://plot.ly"
       },
       "data": [
        {
         "colorscale": [
          [
           0,
           "#636efa"
          ],
          [
           1,
           "#636efa"
          ]
         ],
         "geo": "geo",
         "hovertemplate": "Learning=French<br>Country=%{location}<extra></extra>",
         "locationmode": "country names",
         "locations": [
          "Egypt",
          "Saudi Arabia",
          "Iraq",
          "Jordan",
          "United Arab Emirates",
          "Morocco",
          "Algeria",
          "Tunisia",
          "Syria",
          "Lebanon",
          "Spain",
          "Mexico",
          "Colombia",
          "Argentina",
          "Peru",
          "Chile",
          "Venezuela",
          "Ecuador",
          "Guatemala",
          "India",
          "Netherlands",
          "Suriname",
          "Sri Lanka"
         ],
         "name": "French",
         "showlegend": true,
         "showscale": false,
         "type": "choropleth",
         "z": [
          1,
          1,
          1,
          1,
          1,
          1,
          1,
          1,
          1,
          1,
          1,
          1,
          1,
          1,
          1,
          1,
          1,
          1,
          1,
          1,
          1,
          1,
          1
         ]
        },
        {
         "colorscale": [
          [
           0,
           "#EF553B"
          ],
          [
           1,
           "#EF553B"
          ]
         ],
         "geo": "geo",
         "hovertemplate": "Learning=Spanish<br>Country=%{location}<extra></extra>",
         "locationmode": "country names",
         "locations": [
          "Bangladesh",
          "Czech Republic",
          "Germany",
          "Austria",
          "Switzerland",
          "Liechtenstein",
          "Luxembourg",
          "Greece",
          "Cyprus",
          "United Kingdom",
          "United States",
          "Canada",
          "Australia",
          "New Zealand",
          "Ireland",
          "South Africa",
          "France",
          "Belgium",
          "Senegal",
          "Ivory Coast",
          "Haiti",
          "Cameroon",
          "Italy",
          "San Marino",
          "South Korea",
          "North Korea",
          "Poland",
          "Portugal",
          "Brazil",
          "Mozambique",
          "Angola",
          "Romania",
          "Moldova",
          "Sweden",
          "India",
          "Philippines"
         ],
         "name": "Spanish",
         "showlegend": true,
         "showscale": false,
         "type": "choropleth",
         "z": [
          1,
          1,
          1,
          1,
          1,
          1,
          1,
          1,
          1,
          1,
          1,
          1,
          1,
          1,
          1,
          1,
          1,
          1,
          1,
          1,
          1,
          1,
          1,
          1,
          1,
          1,
          1,
          1,
          1,
          1,
          1,
          1,
          1,
          1,
          1,
          1
         ]
        },
        {
         "colorscale": [
          [
           0,
           "#00cc96"
          ],
          [
           1,
           "#00cc96"
          ]
         ],
         "geo": "geo",
         "hovertemplate": "Learning=German<br>Country=%{location}<extra></extra>",
         "locationmode": "country names",
         "locations": [
          "Hungary",
          "Russia",
          "Belarus",
          "Kazakhstan",
          "Kyrgyzstan",
          "Turkey",
          "Ukraine"
         ],
         "name": "German",
         "showlegend": true,
         "showscale": false,
         "type": "choropleth",
         "z": [
          1,
          1,
          1,
          1,
          1,
          1,
          1
         ]
        },
        {
         "colorscale": [
          [
           0,
           "#ab63fa"
          ],
          [
           1,
           "#ab63fa"
          ]
         ],
         "geo": "geo",
         "hovertemplate": "Learning=Japanese<br>Country=%{location}<extra></extra>",
         "locationmode": "country names",
         "locations": [
          "Indonesia",
          "China",
          "Taiwan"
         ],
         "name": "Japanese",
         "showlegend": true,
         "showscale": false,
         "type": "choropleth",
         "z": [
          1,
          1,
          1
         ]
        },
        {
         "colorscale": [
          [
           0,
           "#FFA15A"
          ],
          [
           1,
           "#FFA15A"
          ]
         ],
         "geo": "geo",
         "hovertemplate": "Learning=Korean<br>Country=%{location}<extra></extra>",
         "locationmode": "country names",
         "locations": [
          "Japan"
         ],
         "name": "Korean",
         "showlegend": true,
         "showscale": false,
         "type": "choropleth",
         "z": [
          1
         ]
        },
        {
         "colorscale": [
          [
           0,
           "#19d3f3"
          ],
          [
           1,
           "#19d3f3"
          ]
         ],
         "geo": "geo",
         "hovertemplate": "Learning=Chinese<br>Country=%{location}<extra></extra>",
         "locationmode": "country names",
         "locations": [
          "Thailand",
          "Vietnam"
         ],
         "name": "Chinese",
         "showlegend": true,
         "showscale": false,
         "type": "choropleth",
         "z": [
          1,
          1
         ]
        }
       ],
       "layout": {
        "geo": {
         "center": {},
         "domain": {
          "x": [
           0,
           1
          ],
          "y": [
           0,
           1
          ]
         }
        },
        "legend": {
         "title": {
          "text": "Learning"
         },
         "tracegroupgap": 0
        },
        "template": {
         "data": {
          "bar": [
           {
            "error_x": {
             "color": "#2a3f5f"
            },
            "error_y": {
             "color": "#2a3f5f"
            },
            "marker": {
             "line": {
              "color": "#E5ECF6",
              "width": 0.5
             },
             "pattern": {
              "fillmode": "overlay",
              "size": 10,
              "solidity": 0.2
             }
            },
            "type": "bar"
           }
          ],
          "barpolar": [
           {
            "marker": {
             "line": {
              "color": "#E5ECF6",
              "width": 0.5
             },
             "pattern": {
              "fillmode": "overlay",
              "size": 10,
              "solidity": 0.2
             }
            },
            "type": "barpolar"
           }
          ],
          "carpet": [
           {
            "aaxis": {
             "endlinecolor": "#2a3f5f",
             "gridcolor": "white",
             "linecolor": "white",
             "minorgridcolor": "white",
             "startlinecolor": "#2a3f5f"
            },
            "baxis": {
             "endlinecolor": "#2a3f5f",
             "gridcolor": "white",
             "linecolor": "white",
             "minorgridcolor": "white",
             "startlinecolor": "#2a3f5f"
            },
            "type": "carpet"
           }
          ],
          "choropleth": [
           {
            "colorbar": {
             "outlinewidth": 0,
             "ticks": ""
            },
            "type": "choropleth"
           }
          ],
          "contour": [
           {
            "colorbar": {
             "outlinewidth": 0,
             "ticks": ""
            },
            "colorscale": [
             [
              0,
              "#0d0887"
             ],
             [
              0.1111111111111111,
              "#46039f"
             ],
             [
              0.2222222222222222,
              "#7201a8"
             ],
             [
              0.3333333333333333,
              "#9c179e"
             ],
             [
              0.4444444444444444,
              "#bd3786"
             ],
             [
              0.5555555555555556,
              "#d8576b"
             ],
             [
              0.6666666666666666,
              "#ed7953"
             ],
             [
              0.7777777777777778,
              "#fb9f3a"
             ],
             [
              0.8888888888888888,
              "#fdca26"
             ],
             [
              1,
              "#f0f921"
             ]
            ],
            "type": "contour"
           }
          ],
          "contourcarpet": [
           {
            "colorbar": {
             "outlinewidth": 0,
             "ticks": ""
            },
            "type": "contourcarpet"
           }
          ],
          "heatmap": [
           {
            "colorbar": {
             "outlinewidth": 0,
             "ticks": ""
            },
            "colorscale": [
             [
              0,
              "#0d0887"
             ],
             [
              0.1111111111111111,
              "#46039f"
             ],
             [
              0.2222222222222222,
              "#7201a8"
             ],
             [
              0.3333333333333333,
              "#9c179e"
             ],
             [
              0.4444444444444444,
              "#bd3786"
             ],
             [
              0.5555555555555556,
              "#d8576b"
             ],
             [
              0.6666666666666666,
              "#ed7953"
             ],
             [
              0.7777777777777778,
              "#fb9f3a"
             ],
             [
              0.8888888888888888,
              "#fdca26"
             ],
             [
              1,
              "#f0f921"
             ]
            ],
            "type": "heatmap"
           }
          ],
          "heatmapgl": [
           {
            "colorbar": {
             "outlinewidth": 0,
             "ticks": ""
            },
            "colorscale": [
             [
              0,
              "#0d0887"
             ],
             [
              0.1111111111111111,
              "#46039f"
             ],
             [
              0.2222222222222222,
              "#7201a8"
             ],
             [
              0.3333333333333333,
              "#9c179e"
             ],
             [
              0.4444444444444444,
              "#bd3786"
             ],
             [
              0.5555555555555556,
              "#d8576b"
             ],
             [
              0.6666666666666666,
              "#ed7953"
             ],
             [
              0.7777777777777778,
              "#fb9f3a"
             ],
             [
              0.8888888888888888,
              "#fdca26"
             ],
             [
              1,
              "#f0f921"
             ]
            ],
            "type": "heatmapgl"
           }
          ],
          "histogram": [
           {
            "marker": {
             "pattern": {
              "fillmode": "overlay",
              "size": 10,
              "solidity": 0.2
             }
            },
            "type": "histogram"
           }
          ],
          "histogram2d": [
           {
            "colorbar": {
             "outlinewidth": 0,
             "ticks": ""
            },
            "colorscale": [
             [
              0,
              "#0d0887"
             ],
             [
              0.1111111111111111,
              "#46039f"
             ],
             [
              0.2222222222222222,
              "#7201a8"
             ],
             [
              0.3333333333333333,
              "#9c179e"
             ],
             [
              0.4444444444444444,
              "#bd3786"
             ],
             [
              0.5555555555555556,
              "#d8576b"
             ],
             [
              0.6666666666666666,
              "#ed7953"
             ],
             [
              0.7777777777777778,
              "#fb9f3a"
             ],
             [
              0.8888888888888888,
              "#fdca26"
             ],
             [
              1,
              "#f0f921"
             ]
            ],
            "type": "histogram2d"
           }
          ],
          "histogram2dcontour": [
           {
            "colorbar": {
             "outlinewidth": 0,
             "ticks": ""
            },
            "colorscale": [
             [
              0,
              "#0d0887"
             ],
             [
              0.1111111111111111,
              "#46039f"
             ],
             [
              0.2222222222222222,
              "#7201a8"
             ],
             [
              0.3333333333333333,
              "#9c179e"
             ],
             [
              0.4444444444444444,
              "#bd3786"
             ],
             [
              0.5555555555555556,
              "#d8576b"
             ],
             [
              0.6666666666666666,
              "#ed7953"
             ],
             [
              0.7777777777777778,
              "#fb9f3a"
             ],
             [
              0.8888888888888888,
              "#fdca26"
             ],
             [
              1,
              "#f0f921"
             ]
            ],
            "type": "histogram2dcontour"
           }
          ],
          "mesh3d": [
           {
            "colorbar": {
             "outlinewidth": 0,
             "ticks": ""
            },
            "type": "mesh3d"
           }
          ],
          "parcoords": [
           {
            "line": {
             "colorbar": {
              "outlinewidth": 0,
              "ticks": ""
             }
            },
            "type": "parcoords"
           }
          ],
          "pie": [
           {
            "automargin": true,
            "type": "pie"
           }
          ],
          "scatter": [
           {
            "fillpattern": {
             "fillmode": "overlay",
             "size": 10,
             "solidity": 0.2
            },
            "type": "scatter"
           }
          ],
          "scatter3d": [
           {
            "line": {
             "colorbar": {
              "outlinewidth": 0,
              "ticks": ""
             }
            },
            "marker": {
             "colorbar": {
              "outlinewidth": 0,
              "ticks": ""
             }
            },
            "type": "scatter3d"
           }
          ],
          "scattercarpet": [
           {
            "marker": {
             "colorbar": {
              "outlinewidth": 0,
              "ticks": ""
             }
            },
            "type": "scattercarpet"
           }
          ],
          "scattergeo": [
           {
            "marker": {
             "colorbar": {
              "outlinewidth": 0,
              "ticks": ""
             }
            },
            "type": "scattergeo"
           }
          ],
          "scattergl": [
           {
            "marker": {
             "colorbar": {
              "outlinewidth": 0,
              "ticks": ""
             }
            },
            "type": "scattergl"
           }
          ],
          "scattermapbox": [
           {
            "marker": {
             "colorbar": {
              "outlinewidth": 0,
              "ticks": ""
             }
            },
            "type": "scattermapbox"
           }
          ],
          "scatterpolar": [
           {
            "marker": {
             "colorbar": {
              "outlinewidth": 0,
              "ticks": ""
             }
            },
            "type": "scatterpolar"
           }
          ],
          "scatterpolargl": [
           {
            "marker": {
             "colorbar": {
              "outlinewidth": 0,
              "ticks": ""
             }
            },
            "type": "scatterpolargl"
           }
          ],
          "scatterternary": [
           {
            "marker": {
             "colorbar": {
              "outlinewidth": 0,
              "ticks": ""
             }
            },
            "type": "scatterternary"
           }
          ],
          "surface": [
           {
            "colorbar": {
             "outlinewidth": 0,
             "ticks": ""
            },
            "colorscale": [
             [
              0,
              "#0d0887"
             ],
             [
              0.1111111111111111,
              "#46039f"
             ],
             [
              0.2222222222222222,
              "#7201a8"
             ],
             [
              0.3333333333333333,
              "#9c179e"
             ],
             [
              0.4444444444444444,
              "#bd3786"
             ],
             [
              0.5555555555555556,
              "#d8576b"
             ],
             [
              0.6666666666666666,
              "#ed7953"
             ],
             [
              0.7777777777777778,
              "#fb9f3a"
             ],
             [
              0.8888888888888888,
              "#fdca26"
             ],
             [
              1,
              "#f0f921"
             ]
            ],
            "type": "surface"
           }
          ],
          "table": [
           {
            "cells": {
             "fill": {
              "color": "#EBF0F8"
             },
             "line": {
              "color": "white"
             }
            },
            "header": {
             "fill": {
              "color": "#C8D4E3"
             },
             "line": {
              "color": "white"
             }
            },
            "type": "table"
           }
          ]
         },
         "layout": {
          "annotationdefaults": {
           "arrowcolor": "#2a3f5f",
           "arrowhead": 0,
           "arrowwidth": 1
          },
          "autotypenumbers": "strict",
          "coloraxis": {
           "colorbar": {
            "outlinewidth": 0,
            "ticks": ""
           }
          },
          "colorscale": {
           "diverging": [
            [
             0,
             "#8e0152"
            ],
            [
             0.1,
             "#c51b7d"
            ],
            [
             0.2,
             "#de77ae"
            ],
            [
             0.3,
             "#f1b6da"
            ],
            [
             0.4,
             "#fde0ef"
            ],
            [
             0.5,
             "#f7f7f7"
            ],
            [
             0.6,
             "#e6f5d0"
            ],
            [
             0.7,
             "#b8e186"
            ],
            [
             0.8,
             "#7fbc41"
            ],
            [
             0.9,
             "#4d9221"
            ],
            [
             1,
             "#276419"
            ]
           ],
           "sequential": [
            [
             0,
             "#0d0887"
            ],
            [
             0.1111111111111111,
             "#46039f"
            ],
            [
             0.2222222222222222,
             "#7201a8"
            ],
            [
             0.3333333333333333,
             "#9c179e"
            ],
            [
             0.4444444444444444,
             "#bd3786"
            ],
            [
             0.5555555555555556,
             "#d8576b"
            ],
            [
             0.6666666666666666,
             "#ed7953"
            ],
            [
             0.7777777777777778,
             "#fb9f3a"
            ],
            [
             0.8888888888888888,
             "#fdca26"
            ],
            [
             1,
             "#f0f921"
            ]
           ],
           "sequentialminus": [
            [
             0,
             "#0d0887"
            ],
            [
             0.1111111111111111,
             "#46039f"
            ],
            [
             0.2222222222222222,
             "#7201a8"
            ],
            [
             0.3333333333333333,
             "#9c179e"
            ],
            [
             0.4444444444444444,
             "#bd3786"
            ],
            [
             0.5555555555555556,
             "#d8576b"
            ],
            [
             0.6666666666666666,
             "#ed7953"
            ],
            [
             0.7777777777777778,
             "#fb9f3a"
            ],
            [
             0.8888888888888888,
             "#fdca26"
            ],
            [
             1,
             "#f0f921"
            ]
           ]
          },
          "colorway": [
           "#636efa",
           "#EF553B",
           "#00cc96",
           "#ab63fa",
           "#FFA15A",
           "#19d3f3",
           "#FF6692",
           "#B6E880",
           "#FF97FF",
           "#FECB52"
          ],
          "font": {
           "color": "#2a3f5f"
          },
          "geo": {
           "bgcolor": "white",
           "lakecolor": "white",
           "landcolor": "#E5ECF6",
           "showlakes": true,
           "showland": true,
           "subunitcolor": "white"
          },
          "hoverlabel": {
           "align": "left"
          },
          "hovermode": "closest",
          "mapbox": {
           "style": "light"
          },
          "paper_bgcolor": "white",
          "plot_bgcolor": "#E5ECF6",
          "polar": {
           "angularaxis": {
            "gridcolor": "white",
            "linecolor": "white",
            "ticks": ""
           },
           "bgcolor": "#E5ECF6",
           "radialaxis": {
            "gridcolor": "white",
            "linecolor": "white",
            "ticks": ""
           }
          },
          "scene": {
           "xaxis": {
            "backgroundcolor": "#E5ECF6",
            "gridcolor": "white",
            "gridwidth": 2,
            "linecolor": "white",
            "showbackground": true,
            "ticks": "",
            "zerolinecolor": "white"
           },
           "yaxis": {
            "backgroundcolor": "#E5ECF6",
            "gridcolor": "white",
            "gridwidth": 2,
            "linecolor": "white",
            "showbackground": true,
            "ticks": "",
            "zerolinecolor": "white"
           },
           "zaxis": {
            "backgroundcolor": "#E5ECF6",
            "gridcolor": "white",
            "gridwidth": 2,
            "linecolor": "white",
            "showbackground": true,
            "ticks": "",
            "zerolinecolor": "white"
           }
          },
          "shapedefaults": {
           "line": {
            "color": "#2a3f5f"
           }
          },
          "ternary": {
           "aaxis": {
            "gridcolor": "white",
            "linecolor": "white",
            "ticks": ""
           },
           "baxis": {
            "gridcolor": "white",
            "linecolor": "white",
            "ticks": ""
           },
           "bgcolor": "#E5ECF6",
           "caxis": {
            "gridcolor": "white",
            "linecolor": "white",
            "ticks": ""
           }
          },
          "title": {
           "x": 0.05
          },
          "xaxis": {
           "automargin": true,
           "gridcolor": "white",
           "linecolor": "white",
           "ticks": "",
           "title": {
            "standoff": 15
           },
           "zerolinecolor": "white",
           "zerolinewidth": 2
          },
          "yaxis": {
           "automargin": true,
           "gridcolor": "white",
           "linecolor": "white",
           "ticks": "",
           "title": {
            "standoff": 15
           },
           "zerolinecolor": "white",
           "zerolinewidth": 2
          }
         }
        },
        "title": {
         "text": "Most Popular Language Learned by Country (Excluding English)"
        }
       }
      }
     },
     "metadata": {},
     "output_type": "display_data"
    }
   ],
   "source": [
    "import plotly.express as px\n",
    "\n",
    "# Excluding English as a learning language\n",
    "df_filtered = df_grouped[df_grouped['learning'] != 'English']\n",
    "\n",
    "# Sort by learners (descending) within each origin group\n",
    "df_grouped_sorted = df_filtered.sort_values(['origin', 'lr'], ascending=[True, False])\n",
    "\n",
    "# Keep the second entry per origin (i.e., second most popular)\n",
    "df_second = df_grouped_sorted.groupby('origin').first().reset_index()\n",
    "\n",
    "map_data = pd.merge(countries_df, df_second, left_on='origin_name', right_on='origin', how='inner')\n",
    "\n",
    "# Select and rename columns\n",
    "map_data = map_data[['country_name', 'learning', 'lr']]\n",
    "map_data.rename(columns={'country_name': 'Country', 'learning': 'Learning', 'lr': 'learners'}, inplace=True)\n",
    "\n",
    "# Making map\n",
    "fig = px.choropleth(\n",
    "    map_data,\n",
    "    locations=\"Country\",\n",
    "    locationmode=\"country names\",\n",
    "    color=\"Learning\",\n",
    "    title=\"Most Popular Language Learned by Country (Excluding English)\",\n",
    ")\n",
    "\n",
    "fig.show()\n",
    "\n"
   ]
  },
  {
   "cell_type": "markdown",
   "metadata": {},
   "source": [
    "(this graph is visible in the notebook)\n",
    "\n",
    "\n",
    "To make this graph, I used relational databases in SQL (as shown in the relationaldatabases.py file). Additionally I used pandas join.\n",
    "\n",
    "I do not have information about which countries are learning which languages as the source data only includes the origin language and the target language. Therefore my map shows all the countries that speak a certain language, and the most popular target language for that language. E.g. UK, USA, Canada, Australia, New Zealand and South Africa all speak English, and the most popular target language for English speakers is Spanish. Where countries have multiple native languages, I have chosen to show them as speaking the most popular, for example, Canada is shown as speaking English. \n",
    "\n",
    "This map shows that other than English, the most popular target language is Spanish. This is likely due to the fact that Spanish is the second most spoken language in the world, and is spoken in many countries. It is notable that this is not the case in Russia, where the most popular (other than English) is German. This is likely because of historical interactions between the two countries, and the fact that Germany is geographically close to Russia."
   ]
  },
  {
   "cell_type": "markdown",
   "metadata": {},
   "source": [
    "## Individial Origin Language Analysis\n",
    "I will now look at the most popular target language for each origin language. This will be done through a pie chart, so that I can see the proportion of learners for each target language."
   ]
  },
  {
   "cell_type": "code",
   "execution_count": 24,
   "metadata": {},
   "outputs": [
    {
     "data": {
      "application/vnd.plotly.v1+json": {
       "config": {
        "plotlyServerURL": "https://plot.ly"
       },
       "data": [
        {
         "labels": [
          "Arabic",
          "Chinese",
          "Dutch",
          "English Int",
          "French",
          "German",
          "Greek",
          "Hindi",
          "Italian",
          "Japanese",
          "Korean",
          "Polish",
          "Portuguese",
          "Russian",
          "Spanish",
          "Turkish",
          "Vietnamese",
          "Other"
         ],
         "name": "English",
         "type": "pie",
         "values": [
          8.55,
          11.9,
          3.37,
          18.9,
          27.6,
          19.2,
          2.98,
          11.2,
          13.6,
          25,
          18.6,
          2.67,
          6.25,
          9.85,
          49.7,
          5,
          2.82,
          25.979999999999997
         ],
         "visible": true
        },
        {
         "labels": [
          "Catalan",
          "English",
          "French",
          "German",
          "Italian",
          "Portuguese",
          "Russian",
          "Other"
         ],
         "name": "Spanish",
         "type": "pie",
         "values": [
          1.18,
          60.9,
          7.58,
          2.84,
          6.16,
          6.95,
          1.69,
          0.8300000000000001
         ],
         "visible": false
        },
        {
         "labels": [
          "English",
          "French",
          "German",
          "Spanish",
          "Other"
         ],
         "name": "Arabic",
         "type": "pie",
         "values": [
          17.1,
          3.27,
          1.64,
          0.4,
          0.23
         ],
         "visible": false
        },
        {
         "labels": [
          "English",
          "German",
          "Italian",
          "Portuguese",
          "Spanish",
          "Other"
         ],
         "name": "French",
         "type": "pie",
         "values": [
          16.1,
          1.82,
          2.38,
          1.09,
          5.01,
          0.18000000000000002
         ],
         "visible": false
        },
        {
         "labels": [
          "English",
          "French",
          "German",
          "Italian",
          "Spanish",
          "Other"
         ],
         "name": "Portuguese",
         "type": "pie",
         "values": [
          23.7,
          3.11,
          1.35,
          2.28,
          6.07,
          0.27
         ],
         "visible": false
        },
        {
         "labels": [
          "English",
          "French",
          "German",
          "Russian",
          "Spanish",
          "Other"
         ],
         "name": "Turkish",
         "type": "pie",
         "values": [
          8.15,
          0.2,
          1.76,
          0.93,
          0.21,
          0.18000000000000002
         ],
         "visible": false
        },
        {
         "labels": [
          "English",
          "Other"
         ],
         "name": "Bengali",
         "type": "pie",
         "values": [
          6.01,
          0.20999999999999996
         ],
         "visible": false
        },
        {
         "labels": [
          "English",
          "French",
          "German",
          "Italian",
          "Spanish",
          "Other"
         ],
         "name": "Czech",
         "type": "pie",
         "values": [
          2.12,
          0.05,
          0.08,
          0.05,
          0.13,
          0.03
         ],
         "visible": false
        },
        {
         "labels": [
          "Cantonese",
          "English",
          "French",
          "Italian",
          "Japanese",
          "Korean",
          "Spanish",
          "Other"
         ],
         "name": "Chinese",
         "type": "pie",
         "values": [
          5.31,
          19,
          1.84,
          0.49,
          6.98,
          3.59,
          1.15,
          0.14
         ],
         "visible": false
        },
        {
         "labels": [
          "English",
          "French",
          "German",
          "Italian",
          "Spanish",
          "Other"
         ],
         "name": "Dutch",
         "type": "pie",
         "values": [
          1.91,
          1.14,
          0.72,
          0.09,
          0.29,
          0.03
         ],
         "visible": false
        },
        {
         "labels": [
          "English",
          "French",
          "German",
          "Italian",
          "Spanish",
          "Other"
         ],
         "name": "Greek",
         "type": "pie",
         "values": [
          0.56,
          0.04,
          0.02,
          0.04,
          0.09,
          0.010000000000000002
         ],
         "visible": false
        },
        {
         "labels": [
          "English",
          "Other"
         ],
         "name": "Hindi",
         "type": "pie",
         "values": [
          20.7,
          0.6699999999999999
         ],
         "visible": false
        },
        {
         "labels": [
          "English",
          "French",
          "German",
          "Italian",
          "Spanish",
          "Other"
         ],
         "name": "Hungarian",
         "type": "pie",
         "values": [
          1.48,
          0.04,
          0.55,
          0.05,
          0.08,
          0.025
         ],
         "visible": false
        },
        {
         "labels": [
          "English",
          "French",
          "Japanese",
          "Spanish",
          "Other"
         ],
         "name": "Indonesian",
         "type": "pie",
         "values": [
          6.85,
          0.08,
          0.09,
          0.08,
          0.18
         ],
         "visible": false
        },
        {
         "labels": [
          "English",
          "French",
          "German",
          "Italian",
          "Spanish",
          "Other"
         ],
         "name": "Polish",
         "type": "pie",
         "values": [
          4.84,
          0.18,
          0.16,
          0.14,
          0.51,
          0.07
         ],
         "visible": false
        },
        {
         "labels": [
          "English",
          "French",
          "German",
          "Italian",
          "Spanish",
          "Other"
         ],
         "name": "Romanian",
         "type": "pie",
         "values": [
          1.68,
          0.09,
          0.05,
          0.06,
          0.1,
          0.03
         ],
         "visible": false
        },
        {
         "labels": [
          "English",
          "French",
          "German",
          "Italian",
          "Spanish",
          "Other"
         ],
         "name": "Russian",
         "type": "pie",
         "values": [
          16.8,
          1.86,
          2.94,
          0.24,
          1.57,
          0.29100000000000004
         ],
         "visible": false
        },
        {
         "labels": [
          "Chinese",
          "English",
          "French",
          "German",
          "Italian",
          "Japanese",
          "Spanish",
          "Other"
         ],
         "name": "Swedish",
         "type": "pie",
         "values": [
          0.004,
          0.15,
          0.06,
          0.03,
          0.03,
          0.01,
          0.09,
          0.003
         ],
         "visible": false
        },
        {
         "labels": [
          "English",
          "French",
          "Japanese",
          "Spanish",
          "Other"
         ],
         "name": "Tagalog",
         "type": "pie",
         "values": [
          0.87,
          0.03,
          0.02,
          0.07,
          0.04
         ],
         "visible": false
        },
        {
         "labels": [
          "English",
          "French",
          "German",
          "Italian",
          "Spanish",
          "Other"
         ],
         "name": "Tamil",
         "type": "pie",
         "values": [
          0.65,
          0.01,
          0.01,
          0.01,
          0.01,
          0.011
         ],
         "visible": false
        },
        {
         "labels": [
          "English",
          "Other"
         ],
         "name": "Telugu",
         "type": "pie",
         "values": [
          2.2,
          0.05900000000000001
         ],
         "visible": false
        },
        {
         "labels": [
          "Chinese",
          "English",
          "French",
          "Other"
         ],
         "name": "Thai",
         "type": "pie",
         "values": [
          0.04,
          2.57,
          0.04,
          0.07
         ],
         "visible": false
        },
        {
         "labels": [
          "English",
          "French",
          "German",
          "Italian",
          "Spanish",
          "Other"
         ],
         "name": "Ukrainian",
         "type": "pie",
         "values": [
          1.97,
          0.07,
          0.08,
          0.04,
          0.06,
          0.03
         ],
         "visible": false
        },
        {
         "labels": [
          "Chinese",
          "English",
          "Other"
         ],
         "name": "Vietnamese",
         "type": "pie",
         "values": [
          2.8,
          11.8,
          0.42000000000000004
         ],
         "visible": false
        },
        {
         "labels": [
          "English",
          "French",
          "Italian",
          "Spanish",
          "Other"
         ],
         "name": "German",
         "type": "pie",
         "values": [
          6.38,
          2.41,
          1.84,
          3.09,
          0.122
         ],
         "visible": false
        },
        {
         "labels": [
          "English",
          "French",
          "German",
          "Spanish",
          "Other"
         ],
         "name": "Italian",
         "type": "pie",
         "values": [
          4.73,
          1.15,
          0.76,
          1.62,
          0.063
         ],
         "visible": false
        },
        {
         "labels": [
          "Chinese",
          "English",
          "French",
          "Korean",
          "Spanish",
          "Other"
         ],
         "name": "Japanese",
         "type": "pie",
         "values": [
          0.96,
          6.88,
          0.51,
          2.3,
          0.12,
          0.12
         ],
         "visible": false
        },
        {
         "labels": [
          "Chinese",
          "English",
          "French",
          "Japanese",
          "Spanish",
          "Other"
         ],
         "name": "Korean",
         "type": "pie",
         "values": [
          0.04,
          2.65,
          0.08,
          0.09,
          0.13,
          0.06
         ],
         "visible": false
        }
       ],
       "layout": {
        "template": {
         "data": {
          "bar": [
           {
            "error_x": {
             "color": "#2a3f5f"
            },
            "error_y": {
             "color": "#2a3f5f"
            },
            "marker": {
             "line": {
              "color": "#E5ECF6",
              "width": 0.5
             },
             "pattern": {
              "fillmode": "overlay",
              "size": 10,
              "solidity": 0.2
             }
            },
            "type": "bar"
           }
          ],
          "barpolar": [
           {
            "marker": {
             "line": {
              "color": "#E5ECF6",
              "width": 0.5
             },
             "pattern": {
              "fillmode": "overlay",
              "size": 10,
              "solidity": 0.2
             }
            },
            "type": "barpolar"
           }
          ],
          "carpet": [
           {
            "aaxis": {
             "endlinecolor": "#2a3f5f",
             "gridcolor": "white",
             "linecolor": "white",
             "minorgridcolor": "white",
             "startlinecolor": "#2a3f5f"
            },
            "baxis": {
             "endlinecolor": "#2a3f5f",
             "gridcolor": "white",
             "linecolor": "white",
             "minorgridcolor": "white",
             "startlinecolor": "#2a3f5f"
            },
            "type": "carpet"
           }
          ],
          "choropleth": [
           {
            "colorbar": {
             "outlinewidth": 0,
             "ticks": ""
            },
            "type": "choropleth"
           }
          ],
          "contour": [
           {
            "colorbar": {
             "outlinewidth": 0,
             "ticks": ""
            },
            "colorscale": [
             [
              0,
              "#0d0887"
             ],
             [
              0.1111111111111111,
              "#46039f"
             ],
             [
              0.2222222222222222,
              "#7201a8"
             ],
             [
              0.3333333333333333,
              "#9c179e"
             ],
             [
              0.4444444444444444,
              "#bd3786"
             ],
             [
              0.5555555555555556,
              "#d8576b"
             ],
             [
              0.6666666666666666,
              "#ed7953"
             ],
             [
              0.7777777777777778,
              "#fb9f3a"
             ],
             [
              0.8888888888888888,
              "#fdca26"
             ],
             [
              1,
              "#f0f921"
             ]
            ],
            "type": "contour"
           }
          ],
          "contourcarpet": [
           {
            "colorbar": {
             "outlinewidth": 0,
             "ticks": ""
            },
            "type": "contourcarpet"
           }
          ],
          "heatmap": [
           {
            "colorbar": {
             "outlinewidth": 0,
             "ticks": ""
            },
            "colorscale": [
             [
              0,
              "#0d0887"
             ],
             [
              0.1111111111111111,
              "#46039f"
             ],
             [
              0.2222222222222222,
              "#7201a8"
             ],
             [
              0.3333333333333333,
              "#9c179e"
             ],
             [
              0.4444444444444444,
              "#bd3786"
             ],
             [
              0.5555555555555556,
              "#d8576b"
             ],
             [
              0.6666666666666666,
              "#ed7953"
             ],
             [
              0.7777777777777778,
              "#fb9f3a"
             ],
             [
              0.8888888888888888,
              "#fdca26"
             ],
             [
              1,
              "#f0f921"
             ]
            ],
            "type": "heatmap"
           }
          ],
          "heatmapgl": [
           {
            "colorbar": {
             "outlinewidth": 0,
             "ticks": ""
            },
            "colorscale": [
             [
              0,
              "#0d0887"
             ],
             [
              0.1111111111111111,
              "#46039f"
             ],
             [
              0.2222222222222222,
              "#7201a8"
             ],
             [
              0.3333333333333333,
              "#9c179e"
             ],
             [
              0.4444444444444444,
              "#bd3786"
             ],
             [
              0.5555555555555556,
              "#d8576b"
             ],
             [
              0.6666666666666666,
              "#ed7953"
             ],
             [
              0.7777777777777778,
              "#fb9f3a"
             ],
             [
              0.8888888888888888,
              "#fdca26"
             ],
             [
              1,
              "#f0f921"
             ]
            ],
            "type": "heatmapgl"
           }
          ],
          "histogram": [
           {
            "marker": {
             "pattern": {
              "fillmode": "overlay",
              "size": 10,
              "solidity": 0.2
             }
            },
            "type": "histogram"
           }
          ],
          "histogram2d": [
           {
            "colorbar": {
             "outlinewidth": 0,
             "ticks": ""
            },
            "colorscale": [
             [
              0,
              "#0d0887"
             ],
             [
              0.1111111111111111,
              "#46039f"
             ],
             [
              0.2222222222222222,
              "#7201a8"
             ],
             [
              0.3333333333333333,
              "#9c179e"
             ],
             [
              0.4444444444444444,
              "#bd3786"
             ],
             [
              0.5555555555555556,
              "#d8576b"
             ],
             [
              0.6666666666666666,
              "#ed7953"
             ],
             [
              0.7777777777777778,
              "#fb9f3a"
             ],
             [
              0.8888888888888888,
              "#fdca26"
             ],
             [
              1,
              "#f0f921"
             ]
            ],
            "type": "histogram2d"
           }
          ],
          "histogram2dcontour": [
           {
            "colorbar": {
             "outlinewidth": 0,
             "ticks": ""
            },
            "colorscale": [
             [
              0,
              "#0d0887"
             ],
             [
              0.1111111111111111,
              "#46039f"
             ],
             [
              0.2222222222222222,
              "#7201a8"
             ],
             [
              0.3333333333333333,
              "#9c179e"
             ],
             [
              0.4444444444444444,
              "#bd3786"
             ],
             [
              0.5555555555555556,
              "#d8576b"
             ],
             [
              0.6666666666666666,
              "#ed7953"
             ],
             [
              0.7777777777777778,
              "#fb9f3a"
             ],
             [
              0.8888888888888888,
              "#fdca26"
             ],
             [
              1,
              "#f0f921"
             ]
            ],
            "type": "histogram2dcontour"
           }
          ],
          "mesh3d": [
           {
            "colorbar": {
             "outlinewidth": 0,
             "ticks": ""
            },
            "type": "mesh3d"
           }
          ],
          "parcoords": [
           {
            "line": {
             "colorbar": {
              "outlinewidth": 0,
              "ticks": ""
             }
            },
            "type": "parcoords"
           }
          ],
          "pie": [
           {
            "automargin": true,
            "type": "pie"
           }
          ],
          "scatter": [
           {
            "fillpattern": {
             "fillmode": "overlay",
             "size": 10,
             "solidity": 0.2
            },
            "type": "scatter"
           }
          ],
          "scatter3d": [
           {
            "line": {
             "colorbar": {
              "outlinewidth": 0,
              "ticks": ""
             }
            },
            "marker": {
             "colorbar": {
              "outlinewidth": 0,
              "ticks": ""
             }
            },
            "type": "scatter3d"
           }
          ],
          "scattercarpet": [
           {
            "marker": {
             "colorbar": {
              "outlinewidth": 0,
              "ticks": ""
             }
            },
            "type": "scattercarpet"
           }
          ],
          "scattergeo": [
           {
            "marker": {
             "colorbar": {
              "outlinewidth": 0,
              "ticks": ""
             }
            },
            "type": "scattergeo"
           }
          ],
          "scattergl": [
           {
            "marker": {
             "colorbar": {
              "outlinewidth": 0,
              "ticks": ""
             }
            },
            "type": "scattergl"
           }
          ],
          "scattermapbox": [
           {
            "marker": {
             "colorbar": {
              "outlinewidth": 0,
              "ticks": ""
             }
            },
            "type": "scattermapbox"
           }
          ],
          "scatterpolar": [
           {
            "marker": {
             "colorbar": {
              "outlinewidth": 0,
              "ticks": ""
             }
            },
            "type": "scatterpolar"
           }
          ],
          "scatterpolargl": [
           {
            "marker": {
             "colorbar": {
              "outlinewidth": 0,
              "ticks": ""
             }
            },
            "type": "scatterpolargl"
           }
          ],
          "scatterternary": [
           {
            "marker": {
             "colorbar": {
              "outlinewidth": 0,
              "ticks": ""
             }
            },
            "type": "scatterternary"
           }
          ],
          "surface": [
           {
            "colorbar": {
             "outlinewidth": 0,
             "ticks": ""
            },
            "colorscale": [
             [
              0,
              "#0d0887"
             ],
             [
              0.1111111111111111,
              "#46039f"
             ],
             [
              0.2222222222222222,
              "#7201a8"
             ],
             [
              0.3333333333333333,
              "#9c179e"
             ],
             [
              0.4444444444444444,
              "#bd3786"
             ],
             [
              0.5555555555555556,
              "#d8576b"
             ],
             [
              0.6666666666666666,
              "#ed7953"
             ],
             [
              0.7777777777777778,
              "#fb9f3a"
             ],
             [
              0.8888888888888888,
              "#fdca26"
             ],
             [
              1,
              "#f0f921"
             ]
            ],
            "type": "surface"
           }
          ],
          "table": [
           {
            "cells": {
             "fill": {
              "color": "#EBF0F8"
             },
             "line": {
              "color": "white"
             }
            },
            "header": {
             "fill": {
              "color": "#C8D4E3"
             },
             "line": {
              "color": "white"
             }
            },
            "type": "table"
           }
          ]
         },
         "layout": {
          "annotationdefaults": {
           "arrowcolor": "#2a3f5f",
           "arrowhead": 0,
           "arrowwidth": 1
          },
          "autotypenumbers": "strict",
          "coloraxis": {
           "colorbar": {
            "outlinewidth": 0,
            "ticks": ""
           }
          },
          "colorscale": {
           "diverging": [
            [
             0,
             "#8e0152"
            ],
            [
             0.1,
             "#c51b7d"
            ],
            [
             0.2,
             "#de77ae"
            ],
            [
             0.3,
             "#f1b6da"
            ],
            [
             0.4,
             "#fde0ef"
            ],
            [
             0.5,
             "#f7f7f7"
            ],
            [
             0.6,
             "#e6f5d0"
            ],
            [
             0.7,
             "#b8e186"
            ],
            [
             0.8,
             "#7fbc41"
            ],
            [
             0.9,
             "#4d9221"
            ],
            [
             1,
             "#276419"
            ]
           ],
           "sequential": [
            [
             0,
             "#0d0887"
            ],
            [
             0.1111111111111111,
             "#46039f"
            ],
            [
             0.2222222222222222,
             "#7201a8"
            ],
            [
             0.3333333333333333,
             "#9c179e"
            ],
            [
             0.4444444444444444,
             "#bd3786"
            ],
            [
             0.5555555555555556,
             "#d8576b"
            ],
            [
             0.6666666666666666,
             "#ed7953"
            ],
            [
             0.7777777777777778,
             "#fb9f3a"
            ],
            [
             0.8888888888888888,
             "#fdca26"
            ],
            [
             1,
             "#f0f921"
            ]
           ],
           "sequentialminus": [
            [
             0,
             "#0d0887"
            ],
            [
             0.1111111111111111,
             "#46039f"
            ],
            [
             0.2222222222222222,
             "#7201a8"
            ],
            [
             0.3333333333333333,
             "#9c179e"
            ],
            [
             0.4444444444444444,
             "#bd3786"
            ],
            [
             0.5555555555555556,
             "#d8576b"
            ],
            [
             0.6666666666666666,
             "#ed7953"
            ],
            [
             0.7777777777777778,
             "#fb9f3a"
            ],
            [
             0.8888888888888888,
             "#fdca26"
            ],
            [
             1,
             "#f0f921"
            ]
           ]
          },
          "colorway": [
           "#636efa",
           "#EF553B",
           "#00cc96",
           "#ab63fa",
           "#FFA15A",
           "#19d3f3",
           "#FF6692",
           "#B6E880",
           "#FF97FF",
           "#FECB52"
          ],
          "font": {
           "color": "#2a3f5f"
          },
          "geo": {
           "bgcolor": "white",
           "lakecolor": "white",
           "landcolor": "#E5ECF6",
           "showlakes": true,
           "showland": true,
           "subunitcolor": "white"
          },
          "hoverlabel": {
           "align": "left"
          },
          "hovermode": "closest",
          "mapbox": {
           "style": "light"
          },
          "paper_bgcolor": "white",
          "plot_bgcolor": "#E5ECF6",
          "polar": {
           "angularaxis": {
            "gridcolor": "white",
            "linecolor": "white",
            "ticks": ""
           },
           "bgcolor": "#E5ECF6",
           "radialaxis": {
            "gridcolor": "white",
            "linecolor": "white",
            "ticks": ""
           }
          },
          "scene": {
           "xaxis": {
            "backgroundcolor": "#E5ECF6",
            "gridcolor": "white",
            "gridwidth": 2,
            "linecolor": "white",
            "showbackground": true,
            "ticks": "",
            "zerolinecolor": "white"
           },
           "yaxis": {
            "backgroundcolor": "#E5ECF6",
            "gridcolor": "white",
            "gridwidth": 2,
            "linecolor": "white",
            "showbackground": true,
            "ticks": "",
            "zerolinecolor": "white"
           },
           "zaxis": {
            "backgroundcolor": "#E5ECF6",
            "gridcolor": "white",
            "gridwidth": 2,
            "linecolor": "white",
            "showbackground": true,
            "ticks": "",
            "zerolinecolor": "white"
           }
          },
          "shapedefaults": {
           "line": {
            "color": "#2a3f5f"
           }
          },
          "ternary": {
           "aaxis": {
            "gridcolor": "white",
            "linecolor": "white",
            "ticks": ""
           },
           "baxis": {
            "gridcolor": "white",
            "linecolor": "white",
            "ticks": ""
           },
           "bgcolor": "#E5ECF6",
           "caxis": {
            "gridcolor": "white",
            "linecolor": "white",
            "ticks": ""
           }
          },
          "title": {
           "x": 0.05
          },
          "xaxis": {
           "automargin": true,
           "gridcolor": "white",
           "linecolor": "white",
           "ticks": "",
           "title": {
            "standoff": 15
           },
           "zerolinecolor": "white",
           "zerolinewidth": 2
          },
          "yaxis": {
           "automargin": true,
           "gridcolor": "white",
           "linecolor": "white",
           "ticks": "",
           "title": {
            "standoff": 15
           },
           "zerolinecolor": "white",
           "zerolinewidth": 2
          }
         }
        },
        "title": {
         "text": "Languages Learned by English Speakers"
        },
        "updatemenus": [
         {
          "buttons": [
           {
            "args": [
             {
              "visible": [
               true,
               false,
               false,
               false,
               false,
               false,
               false,
               false,
               false,
               false,
               false,
               false,
               false,
               false,
               false,
               false,
               false,
               false,
               false,
               false,
               false,
               false,
               false,
               false,
               false,
               false,
               false,
               false
              ]
             },
             {
              "title": "Languages Learned by English Speakers"
             }
            ],
            "label": "English",
            "method": "update"
           },
           {
            "args": [
             {
              "visible": [
               false,
               true,
               false,
               false,
               false,
               false,
               false,
               false,
               false,
               false,
               false,
               false,
               false,
               false,
               false,
               false,
               false,
               false,
               false,
               false,
               false,
               false,
               false,
               false,
               false,
               false,
               false,
               false
              ]
             },
             {
              "title": "Languages Learned by Spanish Speakers"
             }
            ],
            "label": "Spanish",
            "method": "update"
           },
           {
            "args": [
             {
              "visible": [
               false,
               false,
               true,
               false,
               false,
               false,
               false,
               false,
               false,
               false,
               false,
               false,
               false,
               false,
               false,
               false,
               false,
               false,
               false,
               false,
               false,
               false,
               false,
               false,
               false,
               false,
               false,
               false
              ]
             },
             {
              "title": "Languages Learned by Arabic Speakers"
             }
            ],
            "label": "Arabic",
            "method": "update"
           },
           {
            "args": [
             {
              "visible": [
               false,
               false,
               false,
               true,
               false,
               false,
               false,
               false,
               false,
               false,
               false,
               false,
               false,
               false,
               false,
               false,
               false,
               false,
               false,
               false,
               false,
               false,
               false,
               false,
               false,
               false,
               false,
               false
              ]
             },
             {
              "title": "Languages Learned by French Speakers"
             }
            ],
            "label": "French",
            "method": "update"
           },
           {
            "args": [
             {
              "visible": [
               false,
               false,
               false,
               false,
               true,
               false,
               false,
               false,
               false,
               false,
               false,
               false,
               false,
               false,
               false,
               false,
               false,
               false,
               false,
               false,
               false,
               false,
               false,
               false,
               false,
               false,
               false,
               false
              ]
             },
             {
              "title": "Languages Learned by Portuguese Speakers"
             }
            ],
            "label": "Portuguese",
            "method": "update"
           },
           {
            "args": [
             {
              "visible": [
               false,
               false,
               false,
               false,
               false,
               true,
               false,
               false,
               false,
               false,
               false,
               false,
               false,
               false,
               false,
               false,
               false,
               false,
               false,
               false,
               false,
               false,
               false,
               false,
               false,
               false,
               false,
               false
              ]
             },
             {
              "title": "Languages Learned by Turkish Speakers"
             }
            ],
            "label": "Turkish",
            "method": "update"
           },
           {
            "args": [
             {
              "visible": [
               false,
               false,
               false,
               false,
               false,
               false,
               true,
               false,
               false,
               false,
               false,
               false,
               false,
               false,
               false,
               false,
               false,
               false,
               false,
               false,
               false,
               false,
               false,
               false,
               false,
               false,
               false,
               false
              ]
             },
             {
              "title": "Languages Learned by Bengali Speakers"
             }
            ],
            "label": "Bengali",
            "method": "update"
           },
           {
            "args": [
             {
              "visible": [
               false,
               false,
               false,
               false,
               false,
               false,
               false,
               true,
               false,
               false,
               false,
               false,
               false,
               false,
               false,
               false,
               false,
               false,
               false,
               false,
               false,
               false,
               false,
               false,
               false,
               false,
               false,
               false
              ]
             },
             {
              "title": "Languages Learned by Czech Speakers"
             }
            ],
            "label": "Czech",
            "method": "update"
           },
           {
            "args": [
             {
              "visible": [
               false,
               false,
               false,
               false,
               false,
               false,
               false,
               false,
               true,
               false,
               false,
               false,
               false,
               false,
               false,
               false,
               false,
               false,
               false,
               false,
               false,
               false,
               false,
               false,
               false,
               false,
               false,
               false
              ]
             },
             {
              "title": "Languages Learned by Chinese Speakers"
             }
            ],
            "label": "Chinese",
            "method": "update"
           },
           {
            "args": [
             {
              "visible": [
               false,
               false,
               false,
               false,
               false,
               false,
               false,
               false,
               false,
               true,
               false,
               false,
               false,
               false,
               false,
               false,
               false,
               false,
               false,
               false,
               false,
               false,
               false,
               false,
               false,
               false,
               false,
               false
              ]
             },
             {
              "title": "Languages Learned by Dutch Speakers"
             }
            ],
            "label": "Dutch",
            "method": "update"
           },
           {
            "args": [
             {
              "visible": [
               false,
               false,
               false,
               false,
               false,
               false,
               false,
               false,
               false,
               false,
               true,
               false,
               false,
               false,
               false,
               false,
               false,
               false,
               false,
               false,
               false,
               false,
               false,
               false,
               false,
               false,
               false,
               false
              ]
             },
             {
              "title": "Languages Learned by Greek Speakers"
             }
            ],
            "label": "Greek",
            "method": "update"
           },
           {
            "args": [
             {
              "visible": [
               false,
               false,
               false,
               false,
               false,
               false,
               false,
               false,
               false,
               false,
               false,
               true,
               false,
               false,
               false,
               false,
               false,
               false,
               false,
               false,
               false,
               false,
               false,
               false,
               false,
               false,
               false,
               false
              ]
             },
             {
              "title": "Languages Learned by Hindi Speakers"
             }
            ],
            "label": "Hindi",
            "method": "update"
           },
           {
            "args": [
             {
              "visible": [
               false,
               false,
               false,
               false,
               false,
               false,
               false,
               false,
               false,
               false,
               false,
               false,
               true,
               false,
               false,
               false,
               false,
               false,
               false,
               false,
               false,
               false,
               false,
               false,
               false,
               false,
               false,
               false
              ]
             },
             {
              "title": "Languages Learned by Hungarian Speakers"
             }
            ],
            "label": "Hungarian",
            "method": "update"
           },
           {
            "args": [
             {
              "visible": [
               false,
               false,
               false,
               false,
               false,
               false,
               false,
               false,
               false,
               false,
               false,
               false,
               false,
               true,
               false,
               false,
               false,
               false,
               false,
               false,
               false,
               false,
               false,
               false,
               false,
               false,
               false,
               false
              ]
             },
             {
              "title": "Languages Learned by Indonesian Speakers"
             }
            ],
            "label": "Indonesian",
            "method": "update"
           },
           {
            "args": [
             {
              "visible": [
               false,
               false,
               false,
               false,
               false,
               false,
               false,
               false,
               false,
               false,
               false,
               false,
               false,
               false,
               true,
               false,
               false,
               false,
               false,
               false,
               false,
               false,
               false,
               false,
               false,
               false,
               false,
               false
              ]
             },
             {
              "title": "Languages Learned by Polish Speakers"
             }
            ],
            "label": "Polish",
            "method": "update"
           },
           {
            "args": [
             {
              "visible": [
               false,
               false,
               false,
               false,
               false,
               false,
               false,
               false,
               false,
               false,
               false,
               false,
               false,
               false,
               false,
               true,
               false,
               false,
               false,
               false,
               false,
               false,
               false,
               false,
               false,
               false,
               false,
               false
              ]
             },
             {
              "title": "Languages Learned by Romanian Speakers"
             }
            ],
            "label": "Romanian",
            "method": "update"
           },
           {
            "args": [
             {
              "visible": [
               false,
               false,
               false,
               false,
               false,
               false,
               false,
               false,
               false,
               false,
               false,
               false,
               false,
               false,
               false,
               false,
               true,
               false,
               false,
               false,
               false,
               false,
               false,
               false,
               false,
               false,
               false,
               false
              ]
             },
             {
              "title": "Languages Learned by Russian Speakers"
             }
            ],
            "label": "Russian",
            "method": "update"
           },
           {
            "args": [
             {
              "visible": [
               false,
               false,
               false,
               false,
               false,
               false,
               false,
               false,
               false,
               false,
               false,
               false,
               false,
               false,
               false,
               false,
               false,
               true,
               false,
               false,
               false,
               false,
               false,
               false,
               false,
               false,
               false,
               false
              ]
             },
             {
              "title": "Languages Learned by Swedish Speakers"
             }
            ],
            "label": "Swedish",
            "method": "update"
           },
           {
            "args": [
             {
              "visible": [
               false,
               false,
               false,
               false,
               false,
               false,
               false,
               false,
               false,
               false,
               false,
               false,
               false,
               false,
               false,
               false,
               false,
               false,
               true,
               false,
               false,
               false,
               false,
               false,
               false,
               false,
               false,
               false
              ]
             },
             {
              "title": "Languages Learned by Tagalog Speakers"
             }
            ],
            "label": "Tagalog",
            "method": "update"
           },
           {
            "args": [
             {
              "visible": [
               false,
               false,
               false,
               false,
               false,
               false,
               false,
               false,
               false,
               false,
               false,
               false,
               false,
               false,
               false,
               false,
               false,
               false,
               false,
               true,
               false,
               false,
               false,
               false,
               false,
               false,
               false,
               false
              ]
             },
             {
              "title": "Languages Learned by Tamil Speakers"
             }
            ],
            "label": "Tamil",
            "method": "update"
           },
           {
            "args": [
             {
              "visible": [
               false,
               false,
               false,
               false,
               false,
               false,
               false,
               false,
               false,
               false,
               false,
               false,
               false,
               false,
               false,
               false,
               false,
               false,
               false,
               false,
               true,
               false,
               false,
               false,
               false,
               false,
               false,
               false
              ]
             },
             {
              "title": "Languages Learned by Telugu Speakers"
             }
            ],
            "label": "Telugu",
            "method": "update"
           },
           {
            "args": [
             {
              "visible": [
               false,
               false,
               false,
               false,
               false,
               false,
               false,
               false,
               false,
               false,
               false,
               false,
               false,
               false,
               false,
               false,
               false,
               false,
               false,
               false,
               false,
               true,
               false,
               false,
               false,
               false,
               false,
               false
              ]
             },
             {
              "title": "Languages Learned by Thai Speakers"
             }
            ],
            "label": "Thai",
            "method": "update"
           },
           {
            "args": [
             {
              "visible": [
               false,
               false,
               false,
               false,
               false,
               false,
               false,
               false,
               false,
               false,
               false,
               false,
               false,
               false,
               false,
               false,
               false,
               false,
               false,
               false,
               false,
               false,
               true,
               false,
               false,
               false,
               false,
               false
              ]
             },
             {
              "title": "Languages Learned by Ukrainian Speakers"
             }
            ],
            "label": "Ukrainian",
            "method": "update"
           },
           {
            "args": [
             {
              "visible": [
               false,
               false,
               false,
               false,
               false,
               false,
               false,
               false,
               false,
               false,
               false,
               false,
               false,
               false,
               false,
               false,
               false,
               false,
               false,
               false,
               false,
               false,
               false,
               true,
               false,
               false,
               false,
               false
              ]
             },
             {
              "title": "Languages Learned by Vietnamese Speakers"
             }
            ],
            "label": "Vietnamese",
            "method": "update"
           },
           {
            "args": [
             {
              "visible": [
               false,
               false,
               false,
               false,
               false,
               false,
               false,
               false,
               false,
               false,
               false,
               false,
               false,
               false,
               false,
               false,
               false,
               false,
               false,
               false,
               false,
               false,
               false,
               false,
               true,
               false,
               false,
               false
              ]
             },
             {
              "title": "Languages Learned by German Speakers"
             }
            ],
            "label": "German",
            "method": "update"
           },
           {
            "args": [
             {
              "visible": [
               false,
               false,
               false,
               false,
               false,
               false,
               false,
               false,
               false,
               false,
               false,
               false,
               false,
               false,
               false,
               false,
               false,
               false,
               false,
               false,
               false,
               false,
               false,
               false,
               false,
               true,
               false,
               false
              ]
             },
             {
              "title": "Languages Learned by Italian Speakers"
             }
            ],
            "label": "Italian",
            "method": "update"
           },
           {
            "args": [
             {
              "visible": [
               false,
               false,
               false,
               false,
               false,
               false,
               false,
               false,
               false,
               false,
               false,
               false,
               false,
               false,
               false,
               false,
               false,
               false,
               false,
               false,
               false,
               false,
               false,
               false,
               false,
               false,
               true,
               false
              ]
             },
             {
              "title": "Languages Learned by Japanese Speakers"
             }
            ],
            "label": "Japanese",
            "method": "update"
           },
           {
            "args": [
             {
              "visible": [
               false,
               false,
               false,
               false,
               false,
               false,
               false,
               false,
               false,
               false,
               false,
               false,
               false,
               false,
               false,
               false,
               false,
               false,
               false,
               false,
               false,
               false,
               false,
               false,
               false,
               false,
               false,
               true
              ]
             },
             {
              "title": "Languages Learned by Korean Speakers"
             }
            ],
            "label": "Korean",
            "method": "update"
           }
          ],
          "direction": "down",
          "showactive": true
         }
        ]
       }
      }
     },
     "metadata": {},
     "output_type": "display_data"
    }
   ],
   "source": [
    "# Define a threshold for grouping smaller sections\n",
    "threshold = 1  # minimum percentage to show\n",
    "\n",
    "df_pie = pd.merge(df, origins_df[['origin_name', 'language_name']], left_on='origin', right_on='origin_name', how='left')\n",
    "\n",
    "# Group languages with less than 1% of learners into \"Other\"\n",
    "def group_small_sections(filtered_df):\n",
    "    filtered_df = filtered_df.copy()\n",
    "    total_lr = filtered_df['lr'].sum()\n",
    "    filtered_df['percentage'] = (filtered_df['lr'] / total_lr) * 100\n",
    "    grouped_df = filtered_df[filtered_df['percentage'] >= threshold]\n",
    "    other_df = filtered_df[filtered_df['percentage'] < threshold]\n",
    "    if not other_df.empty:\n",
    "        grouped_df = pd.concat([grouped_df, pd.DataFrame({'learning': ['Other'], 'lr': [other_df['lr'].sum()]})])\n",
    "    return grouped_df\n",
    "\n",
    "# Get unique origins\n",
    "origins = df_pie['origin'].unique()\n",
    "\n",
    "# Create the pie chart for each origin\n",
    "fig = go.Figure()\n",
    "for origin in origins:\n",
    "    # filter the DataFrame for the current origin\n",
    "    filtered_df = df_pie[df_pie['origin'] == origin]\n",
    "    grouped_df = group_small_sections(filtered_df)\n",
    "    \n",
    "    # Get the language name for the current origin\n",
    "    language_name = filtered_df['language_name'].iloc[0]  \n",
    "    \n",
    "    # Add a pie chart trace\n",
    "    fig.add_trace(go.Pie(\n",
    "        labels=grouped_df['learning'],\n",
    "        values=grouped_df['lr'],\n",
    "        name=language_name,  # Use the language name for the trace name\n",
    "        visible=(origin == origins[0])  # show the first origin by default\n",
    "    ))\n",
    "\n",
    "# Add dropdown menu and update layout\n",
    "fig.update_layout(\n",
    "    updatemenus=[\n",
    "        dict(\n",
    "            buttons=[\n",
    "                dict(\n",
    "                    label=df_pie[df_pie['origin'] == origin]['language_name'].iloc[0],  # use the language name for the dropdown (rather than the code)\n",
    "                    method='update',\n",
    "                    args=[\n",
    "                        {'visible': [o == origin for o in origins]},  # update the pie chart to show only the selected origin\n",
    "                        {'title': f'Languages Learned by {df_pie[df_pie[\"origin\"] == origin][\"language_name\"].iloc[0]} Speakers'}\n",
    "                    ]\n",
    "                )\n",
    "                for origin in origins\n",
    "            ],\n",
    "            direction=\"down\",\n",
    "            showactive=True\n",
    "        )\n",
    "    ],\n",
    "    title=f'Languages Learned by {df_pie[df_pie[\"origin\"] == origins[0]][\"language_name\"].iloc[0]} Speakers',  \n",
    ")\n",
    "\n",
    "fig.show()"
   ]
  },
  {
   "cell_type": "markdown",
   "metadata": {},
   "source": [
    "(this graph is visible in the notebook)\n",
    "\n",
    "\n",
    "To use this pie chat, select the origin language you are interested in, and a pie chart will be displayed showing the proportion of learners for each target language. Currently, languages with less than 1% of learners are shown as \"Other\". This is to make the pie chart easier to read, and to show the most popular target languages.\n",
    "\n",
    "For all languages (excluding English), English is the most popular target language. This can be as high as 97.4% of learners (for Telugu). For some it is not as high, such as 39.8% for Swedish. "
   ]
  },
  {
   "cell_type": "markdown",
   "metadata": {},
   "source": [
    "## Regression Analysis: what affects the number of learners?"
   ]
  },
  {
   "cell_type": "code",
   "execution_count": 25,
   "metadata": {},
   "outputs": [
    {
     "name": "stdout",
     "output_type": "stream",
     "text": [
      "                            OLS Regression Results                            \n",
      "==============================================================================\n",
      "Dep. Variable:               learners   R-squared:                       0.321\n",
      "Model:                            OLS   Adj. R-squared:                  0.313\n",
      "Method:                 Least Squares   F-statistic:                     40.96\n",
      "Date:                Sun, 27 Apr 2025   Prob (F-statistic):           1.04e-21\n",
      "Time:                        15:34:04   Log-Likelihood:                -815.59\n",
      "No. Observations:                 264   AIC:                             1639.\n",
      "Df Residuals:                     260   BIC:                             1653.\n",
      "Df Model:                           3                                         \n",
      "Covariance Type:            nonrobust                                         \n",
      "==============================================================================\n",
      "                 coef    std err          t      P>|t|      [0.025      0.975]\n",
      "------------------------------------------------------------------------------\n",
      "const         -2.4370      0.924     -2.636      0.009      -4.257      -0.617\n",
      "lessons        0.0014      0.000      2.773      0.006       0.000       0.002\n",
      "stories        0.0045      0.005      0.939      0.349      -0.005       0.014\n",
      "words          0.0006      0.000      1.401      0.162      -0.000       0.001\n",
      "==============================================================================\n",
      "Omnibus:                      263.267   Durbin-Watson:                   1.781\n",
      "Prob(Omnibus):                  0.000   Jarque-Bera (JB):            10159.098\n",
      "Skew:                           3.937   Prob(JB):                         0.00\n",
      "Kurtosis:                      32.352   Cond. No.                     1.23e+04\n",
      "==============================================================================\n",
      "\n",
      "Notes:\n",
      "[1] Standard Errors assume that the covariance matrix of the errors is correctly specified.\n",
      "[2] The condition number is large, 1.23e+04. This might indicate that there are\n",
      "strong multicollinearity or other numerical problems.\n"
     ]
    }
   ],
   "source": [
    "# Running a regression to see which element (i.e. number of lessons, number of units etc.) results in the most learners\n",
    "import statsmodels.api as sm\n",
    "\n",
    "# Creating a new DataFrame with the relevant columns\n",
    "df_regression = df[['lr', 'ls', 's', 'w']].copy()\n",
    "# Renaming columns for clarity\n",
    "\n",
    "df_regression.rename(columns={\n",
    "    'lr': 'learners',\n",
    "    'ls': 'lessons',\n",
    "    's': 'stories',\n",
    "    'w': 'words'\n",
    "}, inplace=True)\n",
    "\n",
    "\n",
    "# Define independent variables (X) and dependent variable (y)\n",
    "X = df_regression[['lessons', 'stories', 'words']]\n",
    "X = sm.add_constant(X)\n",
    "y = df_regression['learners']\n",
    "# Fit the regression model\n",
    "model = sm.OLS(y, X).fit()\n",
    "# Print the summary of the regression results\n",
    "print(model.summary())"
   ]
  },
  {
   "cell_type": "markdown",
   "metadata": {},
   "source": [
    "This regression shows that the number of lessons is positiviely correlated with the number of learners. This is likely because the more lessons there are, the more content there is for learners to engage with. This is significant at the 0.01 level. Both the number of stores and the number of words in the course are not significant at the 0.01 level or 0.05 level. This suggests that the number of stores and the number of words in the course do not have a significant effect on the number of learners.\n",
    "\n",
    "This is likely because the number of stores and the number of words in the course are not as important as the number of lessons. This is likely because the number of lessons is a better indicator of the amount of content in the course, whereas the number of stores and the number of words in the course are not as important.\n",
    "\n",
    "The R-squared value is 0.321 which suggests that this model accounts for 32.1% of the variance in the data. This is a relatively low R-squared value, which suggests that there are other factors that affect the number of learners that are not included in this model.\n",
    "There is both a high skew and high kurtosis in the data, which suggests that the data is not normally distributed. This is likely because there are a few languages with a very high number of learners, which skews the data. Additionally, there are a few languages with a very low number of learners, which also skews the data. This suggests that the data is not normally distributed, and therefore a linear regression model may not be the best fit for this data.\n"
   ]
  },
  {
   "cell_type": "markdown",
   "metadata": {},
   "source": [
    "## Conclusion\n",
    "This analysis has used data about Duolingo courses to determine what drives language learning trends globally. Some of the key findings include:\n",
    "- **English dominates**, English is by far the most popular language on Duolingo with over 250 million learners. \n",
    "- **Regional and cultural factors** play a role in determining the second most popular target language. Europeans are more likely to learn another European language, and Asians are more likely to learn another Asian language.\n",
    "- **Proportion of learners** for each target language varies by origin language. For example, Telugu speakers are more likely to learn English than Swedish speakers.\n",
    "- **Course structure** has limited impact on the number of learners. The number of lessons is positively correlated with the number of learners, but the number of stores and the number of words in the course are not significant."
   ]
  },
  {
   "cell_type": "markdown",
   "metadata": {},
   "source": [
    "## Project Conclusion"
   ]
  },
  {
   "cell_type": "markdown",
   "metadata": {},
   "source": [
    "Within this project, I have highlighted how Duolingo language learning data shows how language popularity varies based on origin (and less so on the course structure). I have shown that English is by far the most popular language to learn on Duolingo and is followed by Spanish. Most learners on Duolingo speak English (possibly because the app is originally from the USA). \n",
    "\n",
    "As mentioned, this blog has shown that course structure has limited impact on the number of learners. The only significant factor is the number of lessons, which is positively correlated with the number of learners. This suggests that the more content there is for learners to engage with, the more likely they are to learn a language.\n",
    "\n",
    "This project involved using web scraping to collect data from an online source, and then I used SQL to create a relational database and clean the data. The use of SQL allowed me to create a database that was easy to query and contained all the information I needed, without having unnecessary data. Within the blog, I have used pandas to create and manipulate dataframes (such as through joins) and I have created visualisations using matplotlib and plotly. \n",
    "\n",
    "To further my analysis, I would like to include more data about the learners, such as age, gender and country of origin. This would allow me to determine if there are any trends in the data that are not currently visible. Additionally, I would like to be able to make recommendations, based on the data, about which languages Duolingo should offer courses in."
   ]
  },
  {
   "cell_type": "markdown",
   "metadata": {},
   "source": [
    "# [GitHub Repository](https://github.com/harrysmale/EmpiricalProject)\n",
    "[https://github.com/harrysmale/EmpiricalProject](https://github.com/harrysmale/EmpiricalProject)\n"
   ]
  }
 ],
 "metadata": {
  "kernelspec": {
   "display_name": "base",
   "language": "python",
   "name": "python3"
  },
  "language_info": {
   "codemirror_mode": {
    "name": "ipython",
    "version": 3
   },
   "file_extension": ".py",
   "mimetype": "text/x-python",
   "name": "python",
   "nbconvert_exporter": "python",
   "pygments_lexer": "ipython3",
   "version": "3.12.7"
  }
 },
 "nbformat": 4,
 "nbformat_minor": 2
}
